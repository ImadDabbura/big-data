{
 "cells": [
  {
   "cell_type": "markdown",
   "metadata": {
    "collapsed": "true"
   },
   "source": [
    "# Imports"
   ]
  },
  {
   "cell_type": "code",
   "execution_count": 1,
   "metadata": {},
   "outputs": [],
   "source": [
    "from pyspark.sql import SparkSession, Row\n",
    "from pyspark.sql.types import *\n",
    "import pyspark.sql.functions as F"
   ]
  },
  {
   "cell_type": "code",
   "execution_count": 2,
   "metadata": {},
   "outputs": [
    {
     "data": {
      "text/html": [
       "\n",
       "            <div>\n",
       "                <p><b>SparkSession - in-memory</b></p>\n",
       "                \n",
       "        <div>\n",
       "            <p><b>SparkContext</b></p>\n",
       "\n",
       "            <p><a href=\"http://imads-mbp.attlocal.net:4040\">Spark UI</a></p>\n",
       "\n",
       "            <dl>\n",
       "              <dt>Version</dt>\n",
       "                <dd><code>v3.0.0</code></dd>\n",
       "              <dt>Master</dt>\n",
       "                <dd><code>local[*]</code></dd>\n",
       "              <dt>AppName</dt>\n",
       "                <dd><code>Chapter 3</code></dd>\n",
       "            </dl>\n",
       "        </div>\n",
       "        \n",
       "            </div>\n",
       "        "
      ],
      "text/plain": [
       "<pyspark.sql.session.SparkSession at 0x7fce084a5700>"
      ]
     },
     "execution_count": 2,
     "metadata": {},
     "output_type": "execute_result"
    }
   ],
   "source": [
    "spark = (SparkSession\n",
    "         .builder\n",
    "         .appName('Chapter 3')\n",
    "         .getOrCreate())\n",
    "spark"
   ]
  },
  {
   "cell_type": "markdown",
   "metadata": {
    "collapsed": "true"
   },
   "source": [
    "# Introduction"
   ]
  },
  {
   "cell_type": "code",
   "execution_count": 3,
   "metadata": {},
   "outputs": [],
   "source": [
    "# create our data\n",
    "data = [[1, \"Jules\", \"Damji\", \"https://tinyurl.1\", \"1/4/2016\", 4535, [\"twitter\", \"LinkedIn\"]],\n",
    "       [2, \"Brooke\",\"Wenig\",\"https://tinyurl.2\", \"5/5/2018\", 8908, [\"twitter\", \"LinkedIn\"]],\n",
    "       [3, \"Denny\", \"Lee\", \"https://tinyurl.3\",\"6/7/2019\",7659, [\"web\", \"twitter\", \"FB\", \"LinkedIn\"]],\n",
    "       [4, \"Tathagata\", \"Das\",\"https://tinyurl.4\", \"5/12/2018\", 10568, [\"twitter\", \"FB\"]],\n",
    "       [5, \"Matei\",\"Zaharia\", \"https://tinyurl.5\", \"5/14/2014\", 40578, [\"web\", \"twitter\", \"FB\", \"LinkedIn\"]],\n",
    "       [6, \"Reynold\", \"Xin\", \"https://tinyurl.6\", \"3/2/2015\", 25568, [\"twitter\", \"LinkedIn\"]]\n",
    "      ]"
   ]
  },
  {
   "cell_type": "code",
   "execution_count": 4,
   "metadata": {},
   "outputs": [],
   "source": [
    "ddl_schema = \"\"\"\n",
    "`Id` INT, `First` STRING, `Last` STRING, `URL` STRING, `PUBLISHED` STRING, `Hits` INT, `Campaigns` ARRAY<STRING> \n",
    "\"\"\""
   ]
  },
  {
   "cell_type": "code",
   "execution_count": 5,
   "metadata": {},
   "outputs": [
    {
     "name": "stdout",
     "output_type": "stream",
     "text": [
      "+---+---------+-------+-----------------+---------+-----+--------------------+\n",
      "| Id|    First|   Last|              URL|PUBLISHED| Hits|           Campaigns|\n",
      "+---+---------+-------+-----------------+---------+-----+--------------------+\n",
      "|  1|    Jules|  Damji|https://tinyurl.1| 1/4/2016| 4535| [twitter, LinkedIn]|\n",
      "|  2|   Brooke|  Wenig|https://tinyurl.2| 5/5/2018| 8908| [twitter, LinkedIn]|\n",
      "|  3|    Denny|    Lee|https://tinyurl.3| 6/7/2019| 7659|[web, twitter, FB...|\n",
      "|  4|Tathagata|    Das|https://tinyurl.4|5/12/2018|10568|       [twitter, FB]|\n",
      "|  5|    Matei|Zaharia|https://tinyurl.5|5/14/2014|40578|[web, twitter, FB...|\n",
      "+---+---------+-------+-----------------+---------+-----+--------------------+\n",
      "only showing top 5 rows\n",
      "\n"
     ]
    }
   ],
   "source": [
    "df = spark.createDataFrame(data, ddl_schema)\n",
    "df.show(5)"
   ]
  },
  {
   "cell_type": "code",
   "execution_count": 6,
   "metadata": {},
   "outputs": [
    {
     "data": {
      "text/plain": [
       "StructType(List(StructField(Id,IntegerType,true),StructField(First,StringType,true),StructField(Last,StringType,true),StructField(URL,StringType,true),StructField(PUBLISHED,StringType,true),StructField(Hits,IntegerType,true),StructField(Campaigns,ArrayType(StringType,true),true)))"
      ]
     },
     "execution_count": 6,
     "metadata": {},
     "output_type": "execute_result"
    }
   ],
   "source": [
    "df.schema"
   ]
  },
  {
   "cell_type": "code",
   "execution_count": 7,
   "metadata": {},
   "outputs": [
    {
     "name": "stdout",
     "output_type": "stream",
     "text": [
      "root\n",
      " |-- Id: integer (nullable = true)\n",
      " |-- First: string (nullable = true)\n",
      " |-- Last: string (nullable = true)\n",
      " |-- URL: string (nullable = true)\n",
      " |-- PUBLISHED: string (nullable = true)\n",
      " |-- Hits: integer (nullable = true)\n",
      " |-- Campaigns: array (nullable = true)\n",
      " |    |-- element: string (containsNull = true)\n",
      "\n"
     ]
    }
   ],
   "source": [
    "df.printSchema()"
   ]
  },
  {
   "cell_type": "code",
   "execution_count": 8,
   "metadata": {},
   "outputs": [
    {
     "data": {
      "text/plain": [
       "['Id', 'First', 'Last', 'URL', 'PUBLISHED', 'Hits', 'Campaigns']"
      ]
     },
     "execution_count": 8,
     "metadata": {},
     "output_type": "execute_result"
    }
   ],
   "source": [
    "df.columns"
   ]
  },
  {
   "cell_type": "code",
   "execution_count": 9,
   "metadata": {},
   "outputs": [
    {
     "name": "stdout",
     "output_type": "stream",
     "text": [
      "+---------+\n",
      "|(Id + Id)|\n",
      "+---------+\n",
      "|        2|\n",
      "|        4|\n",
      "|        6|\n",
      "|        8|\n",
      "|       10|\n",
      "+---------+\n",
      "only showing top 5 rows\n",
      "\n"
     ]
    }
   ],
   "source": [
    "df.select(F.col('Id') + F.col('Id')).show(5)"
   ]
  },
  {
   "cell_type": "code",
   "execution_count": 10,
   "metadata": {},
   "outputs": [
    {
     "name": "stdout",
     "output_type": "stream",
     "text": [
      "+---------+\n",
      "|(Id + Id)|\n",
      "+---------+\n",
      "|        2|\n",
      "|        4|\n",
      "|        6|\n",
      "|        8|\n",
      "|       10|\n",
      "+---------+\n",
      "only showing top 5 rows\n",
      "\n"
     ]
    }
   ],
   "source": [
    "df.select(F.expr('Id + Id')).show(5)"
   ]
  },
  {
   "cell_type": "code",
   "execution_count": 11,
   "metadata": {},
   "outputs": [
    {
     "name": "stdout",
     "output_type": "stream",
     "text": [
      "+----------+\n",
      "|(Hits * 2)|\n",
      "+----------+\n",
      "|      9070|\n",
      "|     17816|\n",
      "|     15318|\n",
      "|     21136|\n",
      "|     81156|\n",
      "|     51136|\n",
      "+----------+\n",
      "\n"
     ]
    }
   ],
   "source": [
    "df.select(F.col('Hits') * 2).show()"
   ]
  },
  {
   "cell_type": "code",
   "execution_count": 12,
   "metadata": {},
   "outputs": [
    {
     "name": "stdout",
     "output_type": "stream",
     "text": [
      "+---+---------+-------+-----------------+---------+-----+--------------------+-----------+\n",
      "| Id|    First|   Last|              URL|PUBLISHED| Hits|           Campaigns|Big Hitters|\n",
      "+---+---------+-------+-----------------+---------+-----+--------------------+-----------+\n",
      "|  1|    Jules|  Damji|https://tinyurl.1| 1/4/2016| 4535| [twitter, LinkedIn]|      false|\n",
      "|  2|   Brooke|  Wenig|https://tinyurl.2| 5/5/2018| 8908| [twitter, LinkedIn]|      false|\n",
      "|  3|    Denny|    Lee|https://tinyurl.3| 6/7/2019| 7659|[web, twitter, FB...|      false|\n",
      "|  4|Tathagata|    Das|https://tinyurl.4|5/12/2018|10568|       [twitter, FB]|       true|\n",
      "|  5|    Matei|Zaharia|https://tinyurl.5|5/14/2014|40578|[web, twitter, FB...|       true|\n",
      "|  6|  Reynold|    Xin|https://tinyurl.6| 3/2/2015|25568| [twitter, LinkedIn]|       true|\n",
      "+---+---------+-------+-----------------+---------+-----+--------------------+-----------+\n",
      "\n"
     ]
    }
   ],
   "source": [
    "df.withColumn('Big Hitters', F.col('Hits') > 10000).show()"
   ]
  },
  {
   "cell_type": "code",
   "execution_count": 13,
   "metadata": {},
   "outputs": [
    {
     "name": "stdout",
     "output_type": "stream",
     "text": [
      "+---+---------+-------+-----------------+---------+-----+--------------------+-------------+\n",
      "| Id|    First|   Last|              URL|PUBLISHED| Hits|           Campaigns|    AuthorsId|\n",
      "+---+---------+-------+-----------------+---------+-----+--------------------+-------------+\n",
      "|  1|    Jules|  Damji|https://tinyurl.1| 1/4/2016| 4535| [twitter, LinkedIn]|  JulesDamji1|\n",
      "|  2|   Brooke|  Wenig|https://tinyurl.2| 5/5/2018| 8908| [twitter, LinkedIn]| BrookeWenig2|\n",
      "|  3|    Denny|    Lee|https://tinyurl.3| 6/7/2019| 7659|[web, twitter, FB...|    DennyLee3|\n",
      "|  4|Tathagata|    Das|https://tinyurl.4|5/12/2018|10568|       [twitter, FB]|TathagataDas4|\n",
      "|  5|    Matei|Zaharia|https://tinyurl.5|5/14/2014|40578|[web, twitter, FB...|MateiZaharia5|\n",
      "|  6|  Reynold|    Xin|https://tinyurl.6| 3/2/2015|25568| [twitter, LinkedIn]|  ReynoldXin6|\n",
      "+---+---------+-------+-----------------+---------+-----+--------------------+-------------+\n",
      "\n"
     ]
    }
   ],
   "source": [
    "df.withColumn('AuthorsId', F.concat(F.col('First'), F.col('Last'), F.col('Id'))).show()"
   ]
  },
  {
   "cell_type": "code",
   "execution_count": 14,
   "metadata": {},
   "outputs": [],
   "source": [
    "rows = [Row(\"Matei Zaharia\", \"CA\"), Row(\"Reynold Xin\", \"CA\")]"
   ]
  },
  {
   "cell_type": "code",
   "execution_count": 15,
   "metadata": {},
   "outputs": [],
   "source": [
    "df_rows = spark.createDataFrame(rows, schema=['Author', 'State'])"
   ]
  },
  {
   "cell_type": "code",
   "execution_count": 16,
   "metadata": {},
   "outputs": [
    {
     "name": "stdout",
     "output_type": "stream",
     "text": [
      "+-------------+-----+\n",
      "|       Author|State|\n",
      "+-------------+-----+\n",
      "|Matei Zaharia|   CA|\n",
      "|  Reynold Xin|   CA|\n",
      "+-------------+-----+\n",
      "\n"
     ]
    }
   ],
   "source": [
    "df_rows.show()"
   ]
  },
  {
   "cell_type": "markdown",
   "metadata": {},
   "source": [
    "# DataFrame Common Operations "
   ]
  },
  {
   "cell_type": "code",
   "execution_count": 17,
   "metadata": {},
   "outputs": [],
   "source": [
    "fire_schema = StructType([\n",
    "    StructField('CallNumber', IntegerType(), True),\n",
    "    StructField('UnitID', StringType(), True),\n",
    "    StructField('IncidentNumber', IntegerType(), True),\n",
    "    StructField('CallType', StringType(), True),\n",
    "    StructField('CallDate', StringType(), True),\n",
    "    StructField('WatchDate', StringType(), True),\n",
    "    StructField('CallFinalDisposition', StringType(), True),\n",
    "    StructField('AvailableDtTm', StringType(), True),\n",
    "    StructField('Address', StringType(), True),\n",
    "    StructField('City', StringType(), True),\n",
    "    StructField('Zipcode', IntegerType(), True),\n",
    "    StructField('Battalion', StringType(), True),\n",
    "    StructField('StationArea', StringType(), True),\n",
    "    StructField('Box', StringType(), True),\n",
    "    StructField('OriginalPriority', StringType(), True),\n",
    "    StructField('Priority', StringType(), True),\n",
    "    StructField('FinalPriority', IntegerType(), True),\n",
    "    StructField('ALSUnit', BooleanType(), True),\n",
    "    StructField('CallTypeGroup', StringType(), True),\n",
    "    StructField('NumAlarms', IntegerType(), True),\n",
    "    StructField('UnitType', StringType(), True),\n",
    "    StructField('UnitSequenceInCallDispatch', IntegerType(), True),\n",
    "    StructField('FirePreventionDistrict', StringType(), True),\n",
    "    StructField('SupervisorDistrict', StringType(), True),\n",
    "    StructField('Neighborhood', StringType(), True),\n",
    "    StructField('Location', StringType(), True),\n",
    "    StructField('RowID', StringType(), True),\n",
    "    StructField('Delay', FloatType(), True)\n",
    "]\n",
    ")"
   ]
  },
  {
   "cell_type": "code",
   "execution_count": 18,
   "metadata": {},
   "outputs": [],
   "source": [
    "sf_fire_calls = (spark\n",
    "                 .read\n",
    "                 .format('csv')\n",
    "                 .option('header', 'true')\n",
    "                 .option('schema', fire_schema)\n",
    "                 .load('data/sf-fire-calls.csv'))"
   ]
  },
  {
   "cell_type": "code",
   "execution_count": 19,
   "metadata": {},
   "outputs": [
    {
     "name": "stdout",
     "output_type": "stream",
     "text": [
      "== Physical Plan ==\n",
      "FileScan csv [CallNumber#177,UnitID#178,IncidentNumber#179,CallType#180,CallDate#181,WatchDate#182,CallFinalDisposition#183,AvailableDtTm#184,Address#185,City#186,Zipcode#187,Battalion#188,StationArea#189,Box#190,OriginalPriority#191,Priority#192,FinalPriority#193,ALSUnit#194,CallTypeGroup#195,NumAlarms#196,UnitType#197,UnitSequenceInCallDispatch#198,FirePreventionDistrict#199,SupervisorDistrict#200,... 4 more fields] Batched: false, DataFilters: [], Format: CSV, Location: InMemoryFileIndex[file:/Users/imad/Documents/courses/data-engineering/big-data/notebooks/Learning..., PartitionFilters: [], PushedFilters: [], ReadSchema: struct<CallNumber:string,UnitID:string,IncidentNumber:string,CallType:string,CallDate:string,Watc...\n",
      "\n",
      "\n"
     ]
    }
   ],
   "source": [
    "sf_fire_calls.explain()"
   ]
  },
  {
   "cell_type": "code",
   "execution_count": 20,
   "metadata": {},
   "outputs": [
    {
     "data": {
      "text/plain": [
       "175296"
      ]
     },
     "execution_count": 20,
     "metadata": {},
     "output_type": "execute_result"
    }
   ],
   "source": [
    "sf_fire_calls.count()"
   ]
  },
  {
   "cell_type": "code",
   "execution_count": 21,
   "metadata": {},
   "outputs": [
    {
     "name": "stdout",
     "output_type": "stream",
     "text": [
      "+--------------+----------------------+--------------+\n",
      "|IncidentNumber|AvailableDtTm         |CallType      |\n",
      "+--------------+----------------------+--------------+\n",
      "|2003235       |01/11/2002 01:51:44 AM|Structure Fire|\n",
      "|2003250       |01/11/2002 04:16:46 AM|Vehicle Fire  |\n",
      "|2003259       |01/11/2002 06:01:58 AM|Alarms        |\n",
      "|2003279       |01/11/2002 08:03:26 AM|Structure Fire|\n",
      "|2003301       |01/11/2002 09:46:44 AM|Alarms        |\n",
      "+--------------+----------------------+--------------+\n",
      "only showing top 5 rows\n",
      "\n"
     ]
    }
   ],
   "source": [
    "(sf_fire_calls\n",
    " .select('IncidentNumber', 'AvailableDtTm', 'CallType')\n",
    " .where(F.col('CallType') != 'Medical Incident')\n",
    " .show(5, truncate=False))"
   ]
  },
  {
   "cell_type": "code",
   "execution_count": 22,
   "metadata": {},
   "outputs": [
    {
     "data": {
      "text/plain": [
       "30"
      ]
     },
     "execution_count": 22,
     "metadata": {},
     "output_type": "execute_result"
    }
   ],
   "source": [
    "(sf_fire_calls\n",
    " .select('CallType')\n",
    " .distinct()\n",
    " .count())"
   ]
  },
  {
   "cell_type": "code",
   "execution_count": 23,
   "metadata": {},
   "outputs": [
    {
     "name": "stdout",
     "output_type": "stream",
     "text": [
      "+-----------------+\n",
      "|DistinctCallTypes|\n",
      "+-----------------+\n",
      "|               30|\n",
      "+-----------------+\n",
      "\n"
     ]
    }
   ],
   "source": [
    "(sf_fire_calls\n",
    " .select('CallType')\n",
    " .where(F.col('CallType').isNotNull())\n",
    " .agg(F.countDistinct('CallType').alias('DistinctCallTypes'))\n",
    " .show())"
   ]
  },
  {
   "cell_type": "code",
   "execution_count": 24,
   "metadata": {},
   "outputs": [
    {
     "name": "stdout",
     "output_type": "stream",
     "text": [
      "+---------------------+\n",
      "|ResponseDelayedinMins|\n",
      "+---------------------+\n",
      "|6.25                 |\n",
      "|7.25                 |\n",
      "|11.916667            |\n",
      "|8.633333             |\n",
      "|95.28333             |\n",
      "+---------------------+\n",
      "only showing top 5 rows\n",
      "\n"
     ]
    }
   ],
   "source": [
    "(sf_fire_calls\n",
    " .withColumnRenamed('Delay', 'ResponseDelayedinMins')\n",
    " .select('ResponseDelayedinMins')\n",
    " .where(F.col('ResponseDelayedinMins') > 5)\n",
    " .show(5, False))"
   ]
  },
  {
   "cell_type": "code",
   "execution_count": 25,
   "metadata": {},
   "outputs": [],
   "source": [
    "fire_ts_df = (sf_fire_calls\n",
    "              .withColumn('IncidentDate', F.to_timestamp(F.col('CallDate'), 'MM/dd/yyyy'))\n",
    "              .drop('CallDate')\n",
    "              .withColumn('OnWatchDate', F.to_timestamp(F.col('WatchDate'), 'MM/dd/yyyy'))\n",
    "              .drop('WatchDate')\n",
    "              .withColumn('AvailableDtTS', F.to_timestamp(F.col('AvailableDtTm'), 'MM/dd/yyyy hh:mm:ss a'))\n",
    "              .drop('AvailableDtTm'))"
   ]
  },
  {
   "cell_type": "code",
   "execution_count": 26,
   "metadata": {},
   "outputs": [
    {
     "name": "stdout",
     "output_type": "stream",
     "text": [
      "+-------------------+-------------------+-------------------+\n",
      "|IncidentDate       |OnWatchDate        |AvailableDtTS      |\n",
      "+-------------------+-------------------+-------------------+\n",
      "|2002-01-11 00:00:00|2002-01-10 00:00:00|2002-01-11 01:51:44|\n",
      "|2002-01-11 00:00:00|2002-01-10 00:00:00|2002-01-11 03:01:18|\n",
      "|2002-01-11 00:00:00|2002-01-10 00:00:00|2002-01-11 02:39:50|\n",
      "|2002-01-11 00:00:00|2002-01-10 00:00:00|2002-01-11 04:16:46|\n",
      "|2002-01-11 00:00:00|2002-01-10 00:00:00|2002-01-11 06:01:58|\n",
      "+-------------------+-------------------+-------------------+\n",
      "only showing top 5 rows\n",
      "\n"
     ]
    }
   ],
   "source": [
    "(fire_ts_df\n",
    " .select('IncidentDate', 'OnWatchDate', 'AvailableDtTS')\n",
    " .show(5, False))"
   ]
  },
  {
   "cell_type": "code",
   "execution_count": 27,
   "metadata": {},
   "outputs": [
    {
     "name": "stdout",
     "output_type": "stream",
     "text": [
      "+------------------+\n",
      "|year(IncidentDate)|\n",
      "+------------------+\n",
      "|              2000|\n",
      "|              2001|\n",
      "|              2002|\n",
      "|              2003|\n",
      "|              2004|\n",
      "|              2005|\n",
      "|              2006|\n",
      "|              2007|\n",
      "|              2008|\n",
      "|              2009|\n",
      "|              2010|\n",
      "|              2011|\n",
      "|              2012|\n",
      "|              2013|\n",
      "|              2014|\n",
      "|              2015|\n",
      "|              2016|\n",
      "|              2017|\n",
      "|              2018|\n",
      "+------------------+\n",
      "\n"
     ]
    }
   ],
   "source": [
    "(fire_ts_df\n",
    " .select(F.year('IncidentDate'))\n",
    " .distinct()\n",
    " .orderBy(F.year('IncidentDate'))\n",
    " .show(20))"
   ]
  },
  {
   "cell_type": "code",
   "execution_count": 28,
   "metadata": {},
   "outputs": [
    {
     "name": "stdout",
     "output_type": "stream",
     "text": [
      "+-------------------------------+------+\n",
      "|CallType                       |count |\n",
      "+-------------------------------+------+\n",
      "|Medical Incident               |113794|\n",
      "|Structure Fire                 |23319 |\n",
      "|Alarms                         |19406 |\n",
      "|Traffic Collision              |7013  |\n",
      "|Citizen Assist / Service Call  |2524  |\n",
      "|Other                          |2166  |\n",
      "|Outside Fire                   |2094  |\n",
      "|Vehicle Fire                   |854   |\n",
      "|Gas Leak (Natural and LP Gases)|764   |\n",
      "|Water Rescue                   |755   |\n",
      "+-------------------------------+------+\n",
      "only showing top 10 rows\n",
      "\n"
     ]
    }
   ],
   "source": [
    "(fire_ts_df\n",
    " .select('CallType')\n",
    " .where(F.col('CallType').isNotNull())\n",
    " .groupBy('CallType')\n",
    " .count()\n",
    " .orderBy('count', ascending=False)\n",
    " .show(10, False))"
   ]
  },
  {
   "cell_type": "code",
   "execution_count": 29,
   "metadata": {},
   "outputs": [
    {
     "name": "stdout",
     "output_type": "stream",
     "text": [
      "== Parsed Logical Plan ==\n",
      "Project [CallNumber#177, UnitID#178, IncidentNumber#179, CallType#180, CallFinalDisposition#183, Address#185, City#186, Zipcode#187, Battalion#188, StationArea#189, Box#190, OriginalPriority#191, Priority#192, FinalPriority#193, ALSUnit#194, CallTypeGroup#195, NumAlarms#196, UnitType#197, UnitSequenceInCallDispatch#198, FirePreventionDistrict#199, SupervisorDistrict#200, Neighborhood#201, Location#202, RowID#203, ... 4 more fields]\n",
      "+- Project [CallNumber#177, UnitID#178, IncidentNumber#179, CallType#180, CallFinalDisposition#183, AvailableDtTm#184, Address#185, City#186, Zipcode#187, Battalion#188, StationArea#189, Box#190, OriginalPriority#191, Priority#192, FinalPriority#193, ALSUnit#194, CallTypeGroup#195, NumAlarms#196, UnitType#197, UnitSequenceInCallDispatch#198, FirePreventionDistrict#199, SupervisorDistrict#200, Neighborhood#201, Location#202, ... 5 more fields]\n",
      "   +- Project [CallNumber#177, UnitID#178, IncidentNumber#179, CallType#180, CallFinalDisposition#183, AvailableDtTm#184, Address#185, City#186, Zipcode#187, Battalion#188, StationArea#189, Box#190, OriginalPriority#191, Priority#192, FinalPriority#193, ALSUnit#194, CallTypeGroup#195, NumAlarms#196, UnitType#197, UnitSequenceInCallDispatch#198, FirePreventionDistrict#199, SupervisorDistrict#200, Neighborhood#201, Location#202, ... 4 more fields]\n",
      "      +- Project [CallNumber#177, UnitID#178, IncidentNumber#179, CallType#180, WatchDate#182, CallFinalDisposition#183, AvailableDtTm#184, Address#185, City#186, Zipcode#187, Battalion#188, StationArea#189, Box#190, OriginalPriority#191, Priority#192, FinalPriority#193, ALSUnit#194, CallTypeGroup#195, NumAlarms#196, UnitType#197, UnitSequenceInCallDispatch#198, FirePreventionDistrict#199, SupervisorDistrict#200, Neighborhood#201, ... 5 more fields]\n",
      "         +- Project [CallNumber#177, UnitID#178, IncidentNumber#179, CallType#180, WatchDate#182, CallFinalDisposition#183, AvailableDtTm#184, Address#185, City#186, Zipcode#187, Battalion#188, StationArea#189, Box#190, OriginalPriority#191, Priority#192, FinalPriority#193, ALSUnit#194, CallTypeGroup#195, NumAlarms#196, UnitType#197, UnitSequenceInCallDispatch#198, FirePreventionDistrict#199, SupervisorDistrict#200, Neighborhood#201, ... 4 more fields]\n",
      "            +- Project [CallNumber#177, UnitID#178, IncidentNumber#179, CallType#180, CallDate#181, WatchDate#182, CallFinalDisposition#183, AvailableDtTm#184, Address#185, City#186, Zipcode#187, Battalion#188, StationArea#189, Box#190, OriginalPriority#191, Priority#192, FinalPriority#193, ALSUnit#194, CallTypeGroup#195, NumAlarms#196, UnitType#197, UnitSequenceInCallDispatch#198, FirePreventionDistrict#199, SupervisorDistrict#200, ... 5 more fields]\n",
      "               +- Relation[CallNumber#177,UnitID#178,IncidentNumber#179,CallType#180,CallDate#181,WatchDate#182,CallFinalDisposition#183,AvailableDtTm#184,Address#185,City#186,Zipcode#187,Battalion#188,StationArea#189,Box#190,OriginalPriority#191,Priority#192,FinalPriority#193,ALSUnit#194,CallTypeGroup#195,NumAlarms#196,UnitType#197,UnitSequenceInCallDispatch#198,FirePreventionDistrict#199,SupervisorDistrict#200,... 4 more fields] csv\n",
      "\n",
      "== Analyzed Logical Plan ==\n",
      "CallNumber: string, UnitID: string, IncidentNumber: string, CallType: string, CallFinalDisposition: string, Address: string, City: string, Zipcode: string, Battalion: string, StationArea: string, Box: string, OriginalPriority: string, Priority: string, FinalPriority: string, ALSUnit: string, CallTypeGroup: string, NumAlarms: string, UnitType: string, UnitSequenceInCallDispatch: string, FirePreventionDistrict: string, SupervisorDistrict: string, Neighborhood: string, Location: string, RowID: string, ... 4 more fields\n",
      "Project [CallNumber#177, UnitID#178, IncidentNumber#179, CallType#180, CallFinalDisposition#183, Address#185, City#186, Zipcode#187, Battalion#188, StationArea#189, Box#190, OriginalPriority#191, Priority#192, FinalPriority#193, ALSUnit#194, CallTypeGroup#195, NumAlarms#196, UnitType#197, UnitSequenceInCallDispatch#198, FirePreventionDistrict#199, SupervisorDistrict#200, Neighborhood#201, Location#202, RowID#203, ... 4 more fields]\n",
      "+- Project [CallNumber#177, UnitID#178, IncidentNumber#179, CallType#180, CallFinalDisposition#183, AvailableDtTm#184, Address#185, City#186, Zipcode#187, Battalion#188, StationArea#189, Box#190, OriginalPriority#191, Priority#192, FinalPriority#193, ALSUnit#194, CallTypeGroup#195, NumAlarms#196, UnitType#197, UnitSequenceInCallDispatch#198, FirePreventionDistrict#199, SupervisorDistrict#200, Neighborhood#201, Location#202, ... 5 more fields]\n",
      "   +- Project [CallNumber#177, UnitID#178, IncidentNumber#179, CallType#180, CallFinalDisposition#183, AvailableDtTm#184, Address#185, City#186, Zipcode#187, Battalion#188, StationArea#189, Box#190, OriginalPriority#191, Priority#192, FinalPriority#193, ALSUnit#194, CallTypeGroup#195, NumAlarms#196, UnitType#197, UnitSequenceInCallDispatch#198, FirePreventionDistrict#199, SupervisorDistrict#200, Neighborhood#201, Location#202, ... 4 more fields]\n",
      "      +- Project [CallNumber#177, UnitID#178, IncidentNumber#179, CallType#180, WatchDate#182, CallFinalDisposition#183, AvailableDtTm#184, Address#185, City#186, Zipcode#187, Battalion#188, StationArea#189, Box#190, OriginalPriority#191, Priority#192, FinalPriority#193, ALSUnit#194, CallTypeGroup#195, NumAlarms#196, UnitType#197, UnitSequenceInCallDispatch#198, FirePreventionDistrict#199, SupervisorDistrict#200, Neighborhood#201, ... 5 more fields]\n",
      "         +- Project [CallNumber#177, UnitID#178, IncidentNumber#179, CallType#180, WatchDate#182, CallFinalDisposition#183, AvailableDtTm#184, Address#185, City#186, Zipcode#187, Battalion#188, StationArea#189, Box#190, OriginalPriority#191, Priority#192, FinalPriority#193, ALSUnit#194, CallTypeGroup#195, NumAlarms#196, UnitType#197, UnitSequenceInCallDispatch#198, FirePreventionDistrict#199, SupervisorDistrict#200, Neighborhood#201, ... 4 more fields]\n",
      "            +- Project [CallNumber#177, UnitID#178, IncidentNumber#179, CallType#180, CallDate#181, WatchDate#182, CallFinalDisposition#183, AvailableDtTm#184, Address#185, City#186, Zipcode#187, Battalion#188, StationArea#189, Box#190, OriginalPriority#191, Priority#192, FinalPriority#193, ALSUnit#194, CallTypeGroup#195, NumAlarms#196, UnitType#197, UnitSequenceInCallDispatch#198, FirePreventionDistrict#199, SupervisorDistrict#200, ... 5 more fields]\n",
      "               +- Relation[CallNumber#177,UnitID#178,IncidentNumber#179,CallType#180,CallDate#181,WatchDate#182,CallFinalDisposition#183,AvailableDtTm#184,Address#185,City#186,Zipcode#187,Battalion#188,StationArea#189,Box#190,OriginalPriority#191,Priority#192,FinalPriority#193,ALSUnit#194,CallTypeGroup#195,NumAlarms#196,UnitType#197,UnitSequenceInCallDispatch#198,FirePreventionDistrict#199,SupervisorDistrict#200,... 4 more fields] csv\n",
      "\n",
      "== Optimized Logical Plan ==\n",
      "Project [CallNumber#177, UnitID#178, IncidentNumber#179, CallType#180, CallFinalDisposition#183, Address#185, City#186, Zipcode#187, Battalion#188, StationArea#189, Box#190, OriginalPriority#191, Priority#192, FinalPriority#193, ALSUnit#194, CallTypeGroup#195, NumAlarms#196, UnitType#197, UnitSequenceInCallDispatch#198, FirePreventionDistrict#199, SupervisorDistrict#200, Neighborhood#201, Location#202, RowID#203, ... 4 more fields]\n",
      "+- Relation[CallNumber#177,UnitID#178,IncidentNumber#179,CallType#180,CallDate#181,WatchDate#182,CallFinalDisposition#183,AvailableDtTm#184,Address#185,City#186,Zipcode#187,Battalion#188,StationArea#189,Box#190,OriginalPriority#191,Priority#192,FinalPriority#193,ALSUnit#194,CallTypeGroup#195,NumAlarms#196,UnitType#197,UnitSequenceInCallDispatch#198,FirePreventionDistrict#199,SupervisorDistrict#200,... 4 more fields] csv\n",
      "\n",
      "== Physical Plan ==\n",
      "*(1) Project [CallNumber#177, UnitID#178, IncidentNumber#179, CallType#180, CallFinalDisposition#183, Address#185, City#186, Zipcode#187, Battalion#188, StationArea#189, Box#190, OriginalPriority#191, Priority#192, FinalPriority#193, ALSUnit#194, CallTypeGroup#195, NumAlarms#196, UnitType#197, UnitSequenceInCallDispatch#198, FirePreventionDistrict#199, SupervisorDistrict#200, Neighborhood#201, Location#202, RowID#203, ... 4 more fields]\n",
      "+- FileScan csv [CallNumber#177,UnitID#178,IncidentNumber#179,CallType#180,CallDate#181,WatchDate#182,CallFinalDisposition#183,AvailableDtTm#184,Address#185,City#186,Zipcode#187,Battalion#188,StationArea#189,Box#190,OriginalPriority#191,Priority#192,FinalPriority#193,ALSUnit#194,CallTypeGroup#195,NumAlarms#196,UnitType#197,UnitSequenceInCallDispatch#198,FirePreventionDistrict#199,SupervisorDistrict#200,... 4 more fields] Batched: false, DataFilters: [], Format: CSV, Location: InMemoryFileIndex[file:/Users/imad/Documents/courses/data-engineering/big-data/notebooks/Learning..., PartitionFilters: [], PushedFilters: [], ReadSchema: struct<CallNumber:string,UnitID:string,IncidentNumber:string,CallType:string,CallDate:string,Watc...\n",
      "\n"
     ]
    }
   ],
   "source": [
    "fire_ts_df.explain(True)"
   ]
  },
  {
   "cell_type": "code",
   "execution_count": 30,
   "metadata": {},
   "outputs": [
    {
     "name": "stdout",
     "output_type": "stream",
     "text": [
      "+--------------+------------------+-----------+----------+\n",
      "|sum(NumAlarms)|        avg(Delay)| min(Delay)|max(Delay)|\n",
      "+--------------+------------------+-----------+----------+\n",
      "|      176170.0|3.8923641541750134|0.016666668|      99.9|\n",
      "+--------------+------------------+-----------+----------+\n",
      "\n"
     ]
    }
   ],
   "source": [
    "(fire_ts_df\n",
    " .select(F.sum('NumAlarms'), F.avg('Delay'), F.min('Delay'), F.max('Delay'))\n",
    " .show())"
   ]
  },
  {
   "cell_type": "code",
   "execution_count": 31,
   "metadata": {},
   "outputs": [
    {
     "name": "stdout",
     "output_type": "stream",
     "text": [
      "+--------------------+\n",
      "|            CallType|\n",
      "+--------------------+\n",
      "|Elevator / Escala...|\n",
      "|              Alarms|\n",
      "|Odor (Strange / U...|\n",
      "|Citizen Assist / ...|\n",
      "|              HazMat|\n",
      "|           Explosion|\n",
      "|        Vehicle Fire|\n",
      "|  Suspicious Package|\n",
      "|               Other|\n",
      "|        Outside Fire|\n",
      "|   Traffic Collision|\n",
      "|       Assist Police|\n",
      "|Gas Leak (Natural...|\n",
      "|        Water Rescue|\n",
      "|   Electrical Hazard|\n",
      "|      Structure Fire|\n",
      "|    Medical Incident|\n",
      "|          Fuel Spill|\n",
      "|Smoke Investigati...|\n",
      "|Train / Rail Inci...|\n",
      "+--------------------+\n",
      "\n"
     ]
    }
   ],
   "source": [
    "# What were all the different types of fire calls in 2018?\n",
    "(fire_ts_df\n",
    " .select('CallType')\n",
    " .where(F.year('IncidentDate') == 2018)\n",
    " .distinct()\n",
    " .show())"
   ]
  },
  {
   "cell_type": "code",
   "execution_count": 32,
   "metadata": {},
   "outputs": [
    {
     "name": "stdout",
     "output_type": "stream",
     "text": [
      "+-----+-----+\n",
      "|month|count|\n",
      "+-----+-----+\n",
      "|   10| 1068|\n",
      "|    5| 1047|\n",
      "|    3| 1029|\n",
      "|    8| 1021|\n",
      "|    1| 1007|\n",
      "|    7|  974|\n",
      "|    6|  974|\n",
      "|    9|  951|\n",
      "|    4|  947|\n",
      "|    2|  919|\n",
      "|   11|  199|\n",
      "+-----+-----+\n",
      "\n"
     ]
    }
   ],
   "source": [
    "# What months within the year 2018 saw the highest number of fire calls?\n",
    "(fire_ts_df\n",
    " .select(F.month('IncidentDate').alias('month'))\n",
    " .where(F.year('IncidentDate') == 2018)\n",
    " .groupBy('month')\n",
    " .count()\n",
    " .orderBy('count', ascending=False)\n",
    " .show())"
   ]
  },
  {
   "cell_type": "code",
   "execution_count": 33,
   "metadata": {},
   "outputs": [
    {
     "name": "stdout",
     "output_type": "stream",
     "text": [
      "+------------+-----+\n",
      "|Neighborhood|count|\n",
      "+------------+-----+\n",
      "|  Tenderloin| 1393|\n",
      "+------------+-----+\n",
      "only showing top 1 row\n",
      "\n"
     ]
    }
   ],
   "source": [
    "# Which neighborhood in San Francisco generated the most fire calls in 2018?\n",
    "(fire_ts_df\n",
    " .select('Neighborhood')\n",
    " .where(F.year('IncidentDate') == 2018)\n",
    " .groupBy('Neighborhood')\n",
    " .count()\n",
    " .orderBy('count', ascending=False)\n",
    " .show(1))"
   ]
  },
  {
   "cell_type": "code",
   "execution_count": 34,
   "metadata": {},
   "outputs": [
    {
     "name": "stdout",
     "output_type": "stream",
     "text": [
      "== Physical Plan ==\n",
      "*(1) Project [Neighborhood#201]\n",
      "+- *(1) Filter (year(cast(gettimestamp(CallDate#181, MM/dd/yyyy, Some(America/Chicago)) as date)) = 2018)\n",
      "   +- FileScan csv [CallDate#181,Neighborhood#201] Batched: false, DataFilters: [(year(cast(gettimestamp(CallDate#181, MM/dd/yyyy, Some(America/Chicago)) as date)) = 2018)], Format: CSV, Location: InMemoryFileIndex[file:/Users/imad/Documents/courses/data-engineering/big-data/notebooks/Learning..., PartitionFilters: [], PushedFilters: [], ReadSchema: struct<CallDate:string,Neighborhood:string>\n",
      "\n",
      "\n"
     ]
    }
   ],
   "source": [
    "(fire_ts_df\n",
    " .select('Neighborhood')\n",
    " .where(F.year('IncidentDate') == 2018)\n",
    " .explain())"
   ]
  },
  {
   "cell_type": "code",
   "execution_count": 35,
   "metadata": {},
   "outputs": [
    {
     "name": "stdout",
     "output_type": "stream",
     "text": [
      "== Physical Plan ==\n",
      "*(1) Project [Neighborhood#201]\n",
      "+- *(1) Filter (year(cast(gettimestamp(CallDate#181, MM/dd/yyyy, Some(America/Chicago)) as date)) = 2018)\n",
      "   +- FileScan csv [CallDate#181,Neighborhood#201] Batched: false, DataFilters: [(year(cast(gettimestamp(CallDate#181, MM/dd/yyyy, Some(America/Chicago)) as date)) = 2018)], Format: CSV, Location: InMemoryFileIndex[file:/Users/imad/Documents/courses/data-engineering/big-data/notebooks/Learning..., PartitionFilters: [], PushedFilters: [], ReadSchema: struct<CallDate:string,Neighborhood:string>\n",
      "\n",
      "\n"
     ]
    }
   ],
   "source": [
    "(fire_ts_df\n",
    " .where(F.year('IncidentDate') == 2018)\n",
    " .select('Neighborhood')\n",
    " .explain())"
   ]
  }
 ],
 "metadata": {
  "kernelspec": {
   "display_name": "Python 3",
   "language": "python",
   "name": "python3"
  },
  "language_info": {
   "codemirror_mode": {
    "name": "ipython",
    "version": 3
   },
   "file_extension": ".py",
   "mimetype": "text/x-python",
   "name": "python",
   "nbconvert_exporter": "python",
   "pygments_lexer": "ipython3",
   "version": "3.8.5"
  }
 },
 "nbformat": 4,
 "nbformat_minor": 4
}
