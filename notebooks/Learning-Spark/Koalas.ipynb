{
 "cells": [
  {
   "cell_type": "markdown",
   "metadata": {
    "application/vnd.databricks.v1+cell": {
     "inputWidgets": {},
     "nuid": "eedae3b7-6b03-4e9b-943f-adbdf28fc8ad",
     "showTitle": false,
     "title": ""
    }
   },
   "source": [
    "d-sandbox\n",
    "<div style=\"text-align: center; line-height: 0; padding-top: 9px;\">\n",
    "  <img src=\"https://raw.githubusercontent.com/databricks/koalas/master/Koalas-logo.png\" width=\"220\"/>\n",
    "</div>\n",
    "\n",
    "The Koalas project makes data scientists more productive when interacting with big data, by implementing the pandas DataFrame API on top of Apache Spark. By unifying the two ecosystems with a familiar API, Koalas offers a seamless transition between small and large data.\n",
    "\n",
    "**Goals of this notebook:**\n",
    "* Demonstrate the similarities of the Koalas API with the pandas API\n",
    "* Understand the differences in syntax for the same DataFrame operations in Koalas vs PySpark\n",
    "\n",
    "[Koalas Docs](https://koalas.readthedocs.io/en/latest/index.html)\n",
    "\n",
    "[Koalas Github](https://github.com/databricks/koalas)\n",
    "\n",
    "**NOTE**: You need to first install `koalas` (PyPI)"
   ]
  },
  {
   "cell_type": "markdown",
   "metadata": {
    "application/vnd.databricks.v1+cell": {
     "inputWidgets": {},
     "nuid": "c5fa7730-af45-4207-90c9-1a742778beda",
     "showTitle": false,
     "title": ""
    }
   },
   "source": [
    "### Read in the dataset\n",
    "\n",
    "* PySpark\n",
    "* pandas\n",
    "* Koalas"
   ]
  },
  {
   "cell_type": "code",
   "execution_count": null,
   "metadata": {
    "application/vnd.databricks.v1+cell": {
     "inputWidgets": {},
     "nuid": "19cb95b8-c0e0-4757-8edb-136720184997",
     "showTitle": false,
     "title": ""
    }
   },
   "outputs": [],
   "source": [
    "# PySpark\n",
    "df = spark.read.parquet(\"/databricks-datasets/learning-spark-v2/sf-airbnb/sf-airbnb-clean.parquet\")"
   ]
  },
  {
   "cell_type": "code",
   "execution_count": null,
   "metadata": {
    "application/vnd.databricks.v1+cell": {
     "inputWidgets": {},
     "nuid": "ed962928-7c7f-4e0f-a1a4-2af953816e49",
     "showTitle": false,
     "title": ""
    }
   },
   "outputs": [],
   "source": [
    "# Pandas\n",
    "import pandas as pd\n",
    "\n",
    "pdDF = pd.read_parquet(\"/dbfs/databricks-datasets/learning-spark-v2/sf-airbnb/sf-airbnb-clean.parquet\")\n",
    "pdDF.head()"
   ]
  },
  {
   "cell_type": "code",
   "execution_count": null,
   "metadata": {
    "application/vnd.databricks.v1+cell": {
     "inputWidgets": {},
     "nuid": "0f6eb462-1fc6-4c38-b42f-880f350ed376",
     "showTitle": false,
     "title": ""
    }
   },
   "outputs": [],
   "source": [
    "# Koalas\n",
    "import databricks.koalas as ks\n",
    "\n",
    "kdf = ks.read_parquet(\"/databricks-datasets/learning-spark-v2/sf-airbnb/sf-airbnb-clean.parquet\")\n",
    "kdf.head()"
   ]
  },
  {
   "cell_type": "markdown",
   "metadata": {
    "application/vnd.databricks.v1+cell": {
     "inputWidgets": {},
     "nuid": "eef3396d-ef1b-4070-a37b-b3d2d5c708a9",
     "showTitle": false,
     "title": ""
    }
   },
   "source": [
    "### Converting to Koalas DataFrame to/from Spark DataFrame"
   ]
  },
  {
   "cell_type": "code",
   "execution_count": null,
   "metadata": {
    "application/vnd.databricks.v1+cell": {
     "inputWidgets": {},
     "nuid": "64feade7-8bd7-4d34-a343-08ca209f3983",
     "showTitle": false,
     "title": ""
    }
   },
   "outputs": [],
   "source": [
    "# Creating a Koalas DataFrame from PySpark DataFrame\n",
    "kdf = ks.DataFrame(df)"
   ]
  },
  {
   "cell_type": "code",
   "execution_count": null,
   "metadata": {
    "application/vnd.databricks.v1+cell": {
     "inputWidgets": {},
     "nuid": "690d0ea6-b449-4ff4-94ea-5274dce0943b",
     "showTitle": false,
     "title": ""
    }
   },
   "outputs": [],
   "source": [
    "# Alternative way of creating a Koalas DataFrame from PySpark DataFrame\n",
    "kdf = df.to_koalas()"
   ]
  },
  {
   "cell_type": "markdown",
   "metadata": {
    "application/vnd.databricks.v1+cell": {
     "inputWidgets": {},
     "nuid": "103e1f5e-aa8e-42b2-9ff1-af192c1f97bc",
     "showTitle": false,
     "title": ""
    }
   },
   "source": [
    "### Value Counts"
   ]
  },
  {
   "cell_type": "code",
   "execution_count": null,
   "metadata": {
    "application/vnd.databricks.v1+cell": {
     "inputWidgets": {},
     "nuid": "8c8e66b5-7b06-4abf-b8a6-b04a4130d7c5",
     "showTitle": false,
     "title": ""
    }
   },
   "outputs": [],
   "source": [
    "# To get value counts of the different property types with PySpark\n",
    "display(df.groupby(\"property_type\").count().orderBy(\"count\", ascending=False))"
   ]
  },
  {
   "cell_type": "code",
   "execution_count": null,
   "metadata": {
    "application/vnd.databricks.v1+cell": {
     "inputWidgets": {},
     "nuid": "07ecca15-fa53-4bcf-b8e4-b2e2c4385113",
     "showTitle": false,
     "title": ""
    }
   },
   "outputs": [],
   "source": [
    "# Value counts in Koalas\n",
    "kdf[\"property_type\"].value_counts()"
   ]
  },
  {
   "cell_type": "markdown",
   "metadata": {
    "application/vnd.databricks.v1+cell": {
     "inputWidgets": {},
     "nuid": "b219188d-7c27-42ea-b3f8-c176acc7a567",
     "showTitle": false,
     "title": ""
    }
   },
   "source": [
    "### Visualizations with Koalas DataFrames"
   ]
  },
  {
   "cell_type": "code",
   "execution_count": null,
   "metadata": {
    "application/vnd.databricks.v1+cell": {
     "inputWidgets": {},
     "nuid": "d3896ba8-5aaa-4bb5-997b-4b2a0c638f6a",
     "showTitle": false,
     "title": ""
    }
   },
   "outputs": [],
   "source": [
    "kdf.plot(kind=\"hist\", x=\"bedrooms\", y=\"price\", bins=200)"
   ]
  },
  {
   "cell_type": "markdown",
   "metadata": {
    "application/vnd.databricks.v1+cell": {
     "inputWidgets": {},
     "nuid": "422a8672-a789-4ce2-97ab-c9685d8a71f6",
     "showTitle": false,
     "title": ""
    }
   },
   "source": [
    "### SQL on Koalas DataFrames"
   ]
  },
  {
   "cell_type": "code",
   "execution_count": null,
   "metadata": {
    "application/vnd.databricks.v1+cell": {
     "inputWidgets": {},
     "nuid": "608254df-be6e-444e-b291-6d3c43e8cfb4",
     "showTitle": false,
     "title": ""
    }
   },
   "outputs": [],
   "source": [
    "ks.sql(\"select distinct(property_type) from {kdf}\")\n"
   ]
  }
 ],
 "metadata": {
  "application/vnd.databricks.v1+notebook": {
   "dashboards": [],
   "language": "python",
   "notebookMetadata": {
    "pythonIndentUnit": 2
   },
   "notebookName": "11-7 Koalas",
   "notebookOrigID": 2475937502598502,
   "widgets": {}
  },
  "kernelspec": {
   "display_name": "Python 3",
   "language": "python",
   "name": "python3"
  },
  "language_info": {
   "codemirror_mode": {
    "name": "ipython",
    "version": 3
   },
   "file_extension": ".py",
   "mimetype": "text/x-python",
   "name": "python",
   "nbconvert_exporter": "python",
   "pygments_lexer": "ipython3",
   "version": "3.8.5"
  }
 },
 "nbformat": 4,
 "nbformat_minor": 4
}
