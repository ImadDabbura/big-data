{
 "cells": [
  {
   "cell_type": "markdown",
   "metadata": {
    "collapsed": "true"
   },
   "source": [
    "# Imports"
   ]
  },
  {
   "cell_type": "code",
   "execution_count": 1,
   "metadata": {},
   "outputs": [],
   "source": [
    "import requests\n",
    "from pyspark.sql import SparkSession\n",
    "import pyspark.sql.functions as F"
   ]
  },
  {
   "cell_type": "code",
   "execution_count": 2,
   "metadata": {},
   "outputs": [
    {
     "data": {
      "text/html": [
       "\n",
       "            <div>\n",
       "                <p><b>SparkSession - in-memory</b></p>\n",
       "                \n",
       "        <div>\n",
       "            <p><b>SparkContext</b></p>\n",
       "\n",
       "            <p><a href=\"http://imads-mbp.attlocal.net:4040\">Spark UI</a></p>\n",
       "\n",
       "            <dl>\n",
       "              <dt>Version</dt>\n",
       "                <dd><code>v3.0.0</code></dd>\n",
       "              <dt>Master</dt>\n",
       "                <dd><code>local[*]</code></dd>\n",
       "              <dt>AppName</dt>\n",
       "                <dd><code>Wildfire data pipeline</code></dd>\n",
       "            </dl>\n",
       "        </div>\n",
       "        \n",
       "            </div>\n",
       "        "
      ],
      "text/plain": [
       "<pyspark.sql.session.SparkSession at 0x7f90d6761b80>"
      ]
     },
     "execution_count": 2,
     "metadata": {},
     "output_type": "execute_result"
    }
   ],
   "source": [
    "spark = (SparkSession\n",
    "         .builder\n",
    "         .appName('Wildfire data pipeline')\n",
    "         .master(\"local[*]\")\n",
    "         .getOrCreate())\n",
    "spark.sparkContext.setLogLevel('INFO')\n",
    "spark"
   ]
  },
  {
   "cell_type": "markdown",
   "metadata": {
    "collapsed": "true"
   },
   "source": [
    "# Loading Data"
   ]
  },
  {
   "cell_type": "code",
   "execution_count": 3,
   "metadata": {},
   "outputs": [],
   "source": [
    "modis_file = \"MODIS_C6_Global_24h.csv\"\n",
    "viirs_file = \"VNP14IMGTDL_NRT_Global_24h.csv\"\n",
    "\n",
    "def download(url, file_name):\n",
    "        r = requests.get(url)\n",
    "        with open(file_name,'wb') as f:\n",
    "                f.write(r.content)\n",
    "\n",
    "def download_files():\n",
    "        base_url = \"https://firms.modaps.eosdis.nasa.gov/data/active_fire/\"\n",
    "        # Download the MODIS data file\n",
    "        download(base_url + \"c6/csv/\" + modis_file, 'data/' + modis_file)\n",
    "        # Download the VIIRS data file\n",
    "        download(base_url + \"viirs/csv/\" + viirs_file, 'data/' + viirs_file)"
   ]
  },
  {
   "cell_type": "code",
   "execution_count": 4,
   "metadata": {},
   "outputs": [],
   "source": [
    "download_files()"
   ]
  },
  {
   "cell_type": "code",
   "execution_count": 6,
   "metadata": {},
   "outputs": [
    {
     "name": "stdout",
     "output_type": "stream",
     "text": [
      "MODIS_C6_Global_24h.csv         VNP14IMGTDL_NRT_Global_24h.csv\n"
     ]
    }
   ],
   "source": [
    "%ls data"
   ]
  },
  {
   "cell_type": "markdown",
   "metadata": {},
   "source": [
    "# Data Pipeline"
   ]
  },
  {
   "cell_type": "code",
   "execution_count": 7,
   "metadata": {},
   "outputs": [
    {
     "name": "stdout",
     "output_type": "stream",
     "text": [
      "+---------+---------+----------+----+-----+----------+--------+---------+----------+-------+----------+---+--------+\n",
      "| latitude|longitude|bright_ti4|scan|track|  acq_date|acq_time|satellite|confidence|version|bright_ti5|frp|daynight|\n",
      "+---------+---------+----------+----+-----+----------+--------+---------+----------+-------+----------+---+--------+\n",
      "|-30.53877| 28.98748|     326.5|0.63| 0.72|2020-10-18|       6|        N|   nominal| 1.0NRT|     286.0|4.7|       N|\n",
      "|-29.63855|  17.8575|     313.3|0.44| 0.39|2020-10-18|       6|        N|   nominal| 1.0NRT|     285.4|1.1|       N|\n",
      "|-30.74109| 29.99058|     295.7|0.71| 0.75|2020-10-18|       6|        N|   nominal| 1.0NRT|     284.7|1.1|       N|\n",
      "|-30.74395| 29.99385|     298.4|0.72| 0.75|2020-10-18|       6|        N|   nominal| 1.0NRT|     284.9|1.1|       N|\n",
      "|-30.99165|  29.4018|     296.8|0.66| 0.73|2020-10-18|       6|        N|   nominal| 1.0NRT|     283.8|0.6|       N|\n",
      "|-31.00266| 29.02282|     303.3|0.63| 0.72|2020-10-18|       6|        N|   nominal| 1.0NRT|     285.9|1.2|       N|\n",
      "|-30.99131| 29.40611|     299.7|0.66| 0.73|2020-10-18|       6|        N|   nominal| 1.0NRT|     284.0|0.9|       N|\n",
      "|-31.00441| 29.02445|     302.4|0.63| 0.72|2020-10-18|       6|        N|   nominal| 1.0NRT|     285.7|1.3|       N|\n",
      "|-31.44062| 28.03403|     299.5|0.56| 0.69|2020-10-18|       6|        N|   nominal| 1.0NRT|     280.3|2.1|       N|\n",
      "|-31.44712|  28.0341|     308.5|0.56| 0.69|2020-10-18|       6|        N|   nominal| 1.0NRT|     281.3|2.1|       N|\n",
      "+---------+---------+----------+----+-----+----------+--------+---------+----------+-------+----------+---+--------+\n",
      "only showing top 10 rows\n",
      "\n"
     ]
    }
   ],
   "source": [
    "viirs_df = (spark\n",
    "           .read\n",
    "           .format(\"csv\")\n",
    "           .option(\"header\", True)\n",
    "           .option(\"inferSchema\", True)\n",
    "           .load('data/' + viirs_file))\n",
    "viirs_df.show(10)"
   ]
  },
  {
   "cell_type": "code",
   "execution_count": 8,
   "metadata": {},
   "outputs": [
    {
     "name": "stdout",
     "output_type": "stream",
     "text": [
      "root\n",
      " |-- latitude: double (nullable = true)\n",
      " |-- longitude: double (nullable = true)\n",
      " |-- bright_ti4: double (nullable = true)\n",
      " |-- scan: double (nullable = true)\n",
      " |-- track: double (nullable = true)\n",
      " |-- acq_date: string (nullable = true)\n",
      " |-- acq_time: integer (nullable = true)\n",
      " |-- satellite: string (nullable = true)\n",
      " |-- confidence: string (nullable = true)\n",
      " |-- version: string (nullable = true)\n",
      " |-- bright_ti5: double (nullable = true)\n",
      " |-- frp: double (nullable = true)\n",
      " |-- daynight: string (nullable = true)\n",
      "\n"
     ]
    }
   ],
   "source": [
    "viirs_df.printSchema()"
   ]
  },
  {
   "cell_type": "code",
   "execution_count": 9,
   "metadata": {},
   "outputs": [
    {
     "data": {
      "text/plain": [
       "92144"
      ]
     },
     "execution_count": 9,
     "metadata": {},
     "output_type": "execute_result"
    }
   ],
   "source": [
    "viirs_df.count()"
   ]
  },
  {
   "cell_type": "code",
   "execution_count": 10,
   "metadata": {},
   "outputs": [
    {
     "name": "stdout",
     "output_type": "stream",
     "text": [
      "+---------+---------+----------+----+-----+---------+----------------+-------+----------+---+--------+-------------------+----------+----------+\n",
      "| latitude|longitude|bright_ti4|scan|track|satellite|confidence_level|version|bright_ti5|frp|daynight|       acq_datetime|brightness|bright_t31|\n",
      "+---------+---------+----------+----+-----+---------+----------------+-------+----------+---+--------+-------------------+----------+----------+\n",
      "|-30.53877| 28.98748|     326.5|0.63| 0.72|        N|         nominal| 1.0NRT|     286.0|4.7|       N|2020-10-18 00:06:00|      null|      null|\n",
      "|-29.63855|  17.8575|     313.3|0.44| 0.39|        N|         nominal| 1.0NRT|     285.4|1.1|       N|2020-10-18 00:06:00|      null|      null|\n",
      "|-30.74109| 29.99058|     295.7|0.71| 0.75|        N|         nominal| 1.0NRT|     284.7|1.1|       N|2020-10-18 00:06:00|      null|      null|\n",
      "|-30.74395| 29.99385|     298.4|0.72| 0.75|        N|         nominal| 1.0NRT|     284.9|1.1|       N|2020-10-18 00:06:00|      null|      null|\n",
      "|-30.99165|  29.4018|     296.8|0.66| 0.73|        N|         nominal| 1.0NRT|     283.8|0.6|       N|2020-10-18 00:06:00|      null|      null|\n",
      "|-31.00266| 29.02282|     303.3|0.63| 0.72|        N|         nominal| 1.0NRT|     285.9|1.2|       N|2020-10-18 00:06:00|      null|      null|\n",
      "|-30.99131| 29.40611|     299.7|0.66| 0.73|        N|         nominal| 1.0NRT|     284.0|0.9|       N|2020-10-18 00:06:00|      null|      null|\n",
      "|-31.00441| 29.02445|     302.4|0.63| 0.72|        N|         nominal| 1.0NRT|     285.7|1.3|       N|2020-10-18 00:06:00|      null|      null|\n",
      "|-31.44062| 28.03403|     299.5|0.56| 0.69|        N|         nominal| 1.0NRT|     280.3|2.1|       N|2020-10-18 00:06:00|      null|      null|\n",
      "|-31.44712|  28.0341|     308.5|0.56| 0.69|        N|         nominal| 1.0NRT|     281.3|2.1|       N|2020-10-18 00:06:00|      null|      null|\n",
      "+---------+---------+----------+----+-----+---------+----------------+-------+----------+---+--------+-------------------+----------+----------+\n",
      "only showing top 10 rows\n",
      "\n"
     ]
    }
   ],
   "source": [
    "viirs_df2 = (viirs_df\n",
    "             .withColumn(\"acq_time_min\", F.expr(\"acq_time % 100\"))\n",
    "             .withColumn(\"acq_time_hr\", F.expr(\"int(acq_time / 100)\"))\n",
    "             .withColumn(\"acq_time2\", F.unix_timestamp(F.col(\"acq_date\"), 'yyyy-MM-dd'))\n",
    "             .withColumn(\"acq_time3\", F.expr(\"acq_time2 + acq_time_min * 60 + acq_time_hr * 3600\"))\n",
    "             .withColumn(\"acq_datetime\", F.from_unixtime(F.col(\"acq_time3\")))\n",
    "             .drop(\"acq_date\", \"acq_time\", \"acq_time_min\", \"acq_time_hr\", \"acq_time2\", \"acq_time3\")\n",
    "             .withColumnRenamed(\"confidence\", \"confidence_level\")\n",
    "             .withColumn(\"brightness\", F.lit(None))\n",
    "             .withColumn(\"bright_t31\", F.lit(None)))\n",
    "viirs_df2.show(10)"
   ]
  },
  {
   "cell_type": "code",
   "execution_count": 11,
   "metadata": {},
   "outputs": [
    {
     "name": "stdout",
     "output_type": "stream",
     "text": [
      "root\n",
      " |-- latitude: double (nullable = true)\n",
      " |-- longitude: double (nullable = true)\n",
      " |-- bright_ti4: double (nullable = true)\n",
      " |-- scan: double (nullable = true)\n",
      " |-- track: double (nullable = true)\n",
      " |-- satellite: string (nullable = true)\n",
      " |-- confidence_level: string (nullable = true)\n",
      " |-- version: string (nullable = true)\n",
      " |-- bright_ti5: double (nullable = true)\n",
      " |-- frp: double (nullable = true)\n",
      " |-- daynight: string (nullable = true)\n",
      " |-- acq_datetime: string (nullable = true)\n",
      " |-- brightness: null (nullable = true)\n",
      " |-- bright_t31: null (nullable = true)\n",
      "\n"
     ]
    }
   ],
   "source": [
    "viirs_df2.printSchema()"
   ]
  },
  {
   "cell_type": "code",
   "execution_count": 12,
   "metadata": {},
   "outputs": [
    {
     "data": {
      "text/plain": [
       "2"
      ]
     },
     "execution_count": 12,
     "metadata": {},
     "output_type": "execute_result"
    }
   ],
   "source": [
    "viirs_df2.rdd.getNumPartitions()"
   ]
  },
  {
   "cell_type": "code",
   "execution_count": 13,
   "metadata": {},
   "outputs": [
    {
     "name": "stdout",
     "output_type": "stream",
     "text": [
      "+----------------+-----+-----+\n",
      "|confidence_level|count|    %|\n",
      "+----------------+-----+-----+\n",
      "|         nominal|65279|70.84|\n",
      "|             low|18829|20.43|\n",
      "|            high| 8036| 8.72|\n",
      "+----------------+-----+-----+\n",
      "\n"
     ]
    }
   ],
   "source": [
    "df = viirs_df2.groupby('confidence_level').count()\n",
    "count = viirs_df2.count()\n",
    "df = df.withColumn('%', F.round(F.expr(f\"100 / {count} * count\"), 2))\n",
    "df.show()"
   ]
  },
  {
   "cell_type": "code",
   "execution_count": 15,
   "metadata": {},
   "outputs": [
    {
     "name": "stdout",
     "output_type": "stream",
     "text": [
      "+--------+---------+----------+----+-----+---------+-------+----------+----+--------+------------+----------------+----------+----------+\n",
      "|latitude|longitude|brightness|scan|track|satellite|version|bright_t31| frp|daynight|acq_datetime|confidence_level|bright_ti4|bright_ti5|\n",
      "+--------+---------+----------+----+-----+---------+-------+----------+----+--------+------------+----------------+----------+----------+\n",
      "| -12.073|   26.406|     301.3| 2.4|  1.5|        A| 6.0NRT|     283.5|23.3|       N|        null|             low|      null|      null|\n",
      "| -15.123|   22.926|     301.0| 1.5|  1.2|        A| 6.0NRT|     284.7|11.4|       N|        null|             low|      null|      null|\n",
      "| -17.516|   18.274|     301.6| 1.0|  1.0|        A| 6.0NRT|     291.0| 4.7|       N|        null|         nominal|      null|      null|\n",
      "| -18.863|   16.885|     315.5| 1.0|  1.0|        A| 6.0NRT|     294.9|12.4|       N|        null|             low|      null|      null|\n",
      "| -18.865|   16.894|     325.3| 1.0|  1.0|        A| 6.0NRT|     295.3|22.3|       N|        null|             100|      null|      null|\n",
      "| -18.864|   16.705|     323.6| 1.0|  1.0|        A| 6.0NRT|     292.6|23.1|       N|        null|             100|      null|      null|\n",
      "| -18.865|   16.715|     325.6| 1.0|  1.0|        A| 6.0NRT|     294.4|24.7|       N|        null|             100|      null|      null|\n",
      "| -18.867|   16.725|     323.6| 1.0|  1.0|        A| 6.0NRT|     292.3|22.5|       N|        null|             100|      null|      null|\n",
      "| -18.868|   16.735|     303.5| 1.0|  1.0|        A| 6.0NRT|     289.8| 5.4|       N|        null|             low|      null|      null|\n",
      "| -18.871|   16.754|     304.9| 1.0|  1.0|        A| 6.0NRT|     290.6| 6.6|       N|        null|         nominal|      null|      null|\n",
      "| -18.873|   16.764|     316.0| 1.0|  1.0|        A| 6.0NRT|     291.6|15.5|       N|        null|         nominal|      null|      null|\n",
      "| -18.873|   16.704|     309.9| 1.0|  1.0|        A| 6.0NRT|     293.3|10.7|       N|        null|         nominal|      null|      null|\n",
      "| -18.874|   16.714|     314.4| 1.0|  1.0|        A| 6.0NRT|     293.9|13.7|       N|        null|         nominal|      null|      null|\n",
      "| -18.882|   16.762|     316.7| 1.0|  1.0|        A| 6.0NRT|     293.2|15.1|       N|        null|         nominal|      null|      null|\n",
      "| -18.883|   16.772|     320.7| 1.0|  1.0|        A| 6.0NRT|     292.6|19.2|       N|        null|             100|      null|      null|\n",
      "| -18.898|   16.869|     313.5| 1.0|  1.0|        A| 6.0NRT|     294.3|11.0|       N|        null|         nominal|      null|      null|\n",
      "| -18.899|   16.879|     317.0| 1.0|  1.0|        A| 6.0NRT|     294.3|13.4|       N|        null|             low|      null|      null|\n",
      "| -18.901|   16.769|     305.2| 1.0|  1.0|        A| 6.0NRT|     291.5| 6.6|       N|        null|         nominal|      null|      null|\n",
      "| -18.905|   16.733|     307.9| 1.0|  1.0|        A| 6.0NRT|     291.0| 8.8|       N|        null|         nominal|      null|      null|\n",
      "| -18.912|   16.722|     305.8| 1.0|  1.0|        A| 6.0NRT|     291.0| 7.2|       N|        null|             low|      null|      null|\n",
      "+--------+---------+----------+----+-----+---------+-------+----------+----+--------+------------+----------------+----------+----------+\n",
      "only showing top 20 rows\n",
      "\n",
      "root\n",
      " |-- latitude: double (nullable = true)\n",
      " |-- longitude: double (nullable = true)\n",
      " |-- brightness: double (nullable = true)\n",
      " |-- scan: double (nullable = true)\n",
      " |-- track: double (nullable = true)\n",
      " |-- satellite: string (nullable = true)\n",
      " |-- version: string (nullable = true)\n",
      " |-- bright_t31: double (nullable = true)\n",
      " |-- frp: double (nullable = true)\n",
      " |-- daynight: string (nullable = true)\n",
      " |-- acq_datetime: string (nullable = true)\n",
      " |-- confidence_level: string (nullable = true)\n",
      " |-- bright_ti4: null (nullable = true)\n",
      " |-- bright_ti5: null (nullable = true)\n",
      "\n"
     ]
    }
   ],
   "source": [
    "low = 40\n",
    "high = 100\n",
    "\n",
    "modis_df = spark.read.format(\"csv\") \\\n",
    "        .option(\"header\", True) \\\n",
    "        .option(\"inferSchema\", True) \\\n",
    "        .load('data/' + modis_file) \\\n",
    "        .withColumn(\"acq_time_min\", F.expr(\"acq_time % 100\")) \\\n",
    "        .withColumn(\"acq_time_hr\", F.expr(\"int(acq_time / 100)\")) \\\n",
    "        .withColumn(\"acq_time2\", F.unix_timestamp(F.col(\"acq_date\"))) \\\n",
    "        .withColumn(\"acq_time3\", F.expr(\"acq_time2 + acq_time_min * 60 + acq_time_hr * 3600\")) \\\n",
    "        .withColumn(\"acq_datetime\", F.from_unixtime(F.col(\"acq_time3\"))) \\\n",
    "        .drop(\"acq_date\", \"acq_time\", \"acq_time_min\", \"acq_time_hr\", \"acq_time2\", \"acq_time3\") \\\n",
    "        .withColumn(\"confidence_level\", F.when(F.col(\"confidence\") <= low, \"low\")\n",
    "                    .when((F.col(\"confidence\") > low) & (F.col(\"confidence\") < high), \"nominal\")\n",
    "                    .when(F.isnull(F.col(\"confidence\")), \"high\")\n",
    "                    .otherwise(F.col(\"confidence\"))) \\\n",
    "        .drop(\"confidence\") \\\n",
    "        .withColumn(\"bright_ti4\", F.lit(None)) \\\n",
    "        .withColumn(\"bright_ti5\", F.lit(None))\n",
    "\n",
    "modis_df.show()\n",
    "modis_df.printSchema()"
   ]
  },
  {
   "cell_type": "code",
   "execution_count": 16,
   "metadata": {},
   "outputs": [
    {
     "name": "stdout",
     "output_type": "stream",
     "text": [
      "+----------------+-----+-----+\n",
      "|confidence_level|count|    %|\n",
      "+----------------+-----+-----+\n",
      "|         nominal|15963|83.26|\n",
      "|             low| 1949|10.17|\n",
      "|             100| 1261| 6.58|\n",
      "+----------------+-----+-----+\n",
      "\n"
     ]
    }
   ],
   "source": [
    "df = modis_df.groupBy(\"confidence_level\").count()\n",
    "count = modis_df.count()\n",
    "df = df.withColumn(\"%\", F.round(F.expr(\"100 / {} * count\".format(count)), 2))\n",
    "df.show()"
   ]
  },
  {
   "cell_type": "code",
   "execution_count": 17,
   "metadata": {},
   "outputs": [
    {
     "name": "stdout",
     "output_type": "stream",
     "text": [
      "+---------+---------+----------+----+-----+---------+----------------+-------+----------+---+--------+-------------------+----------+----------+\n",
      "| latitude|longitude|bright_ti4|scan|track|satellite|confidence_level|version|bright_ti5|frp|daynight|       acq_datetime|brightness|bright_t31|\n",
      "+---------+---------+----------+----+-----+---------+----------------+-------+----------+---+--------+-------------------+----------+----------+\n",
      "|-30.53877| 28.98748|     326.5|0.63| 0.72|        N|         nominal| 1.0NRT|     286.0|4.7|       N|2020-10-18 00:06:00|      null|      null|\n",
      "|-29.63855|  17.8575|     313.3|0.44| 0.39|        N|         nominal| 1.0NRT|     285.4|1.1|       N|2020-10-18 00:06:00|      null|      null|\n",
      "|-30.74109| 29.99058|     295.7|0.71| 0.75|        N|         nominal| 1.0NRT|     284.7|1.1|       N|2020-10-18 00:06:00|      null|      null|\n",
      "|-30.74395| 29.99385|     298.4|0.72| 0.75|        N|         nominal| 1.0NRT|     284.9|1.1|       N|2020-10-18 00:06:00|      null|      null|\n",
      "|-30.99165|  29.4018|     296.8|0.66| 0.73|        N|         nominal| 1.0NRT|     283.8|0.6|       N|2020-10-18 00:06:00|      null|      null|\n",
      "|-31.00266| 29.02282|     303.3|0.63| 0.72|        N|         nominal| 1.0NRT|     285.9|1.2|       N|2020-10-18 00:06:00|      null|      null|\n",
      "|-30.99131| 29.40611|     299.7|0.66| 0.73|        N|         nominal| 1.0NRT|     284.0|0.9|       N|2020-10-18 00:06:00|      null|      null|\n",
      "|-31.00441| 29.02445|     302.4|0.63| 0.72|        N|         nominal| 1.0NRT|     285.7|1.3|       N|2020-10-18 00:06:00|      null|      null|\n",
      "|-31.44062| 28.03403|     299.5|0.56| 0.69|        N|         nominal| 1.0NRT|     280.3|2.1|       N|2020-10-18 00:06:00|      null|      null|\n",
      "|-31.44712|  28.0341|     308.5|0.56| 0.69|        N|         nominal| 1.0NRT|     281.3|2.1|       N|2020-10-18 00:06:00|      null|      null|\n",
      "|-31.44738| 28.03939|     315.5|0.56| 0.69|        N|         nominal| 1.0NRT|     280.5|2.1|       N|2020-10-18 00:06:00|      null|      null|\n",
      "|-32.42072| 26.67845|     317.3|0.48| 0.64|        N|         nominal| 1.0NRT|     267.5|3.1|       N|2020-10-18 00:06:00|      null|      null|\n",
      "|-32.42691| 26.68034|     333.4|0.48| 0.64|        N|         nominal| 1.0NRT|     266.8|3.1|       N|2020-10-18 00:06:00|      null|      null|\n",
      "|-32.42717| 26.68051|     330.9|0.48| 0.64|        N|         nominal| 1.0NRT|     267.2|4.3|       N|2020-10-18 00:06:00|      null|      null|\n",
      "|-32.93717|  18.7598|     298.7|0.52| 0.42|        N|         nominal| 1.0NRT|     285.8|0.8|       N|2020-10-18 00:06:00|      null|      null|\n",
      "|-32.93798| 18.75883|     306.1|0.52| 0.42|        N|         nominal| 1.0NRT|     286.5|1.1|       N|2020-10-18 00:06:00|      null|      null|\n",
      "|-33.60616| 21.98664|     303.6|0.52|  0.5|        N|         nominal| 1.0NRT|     286.1|1.0|       N|2020-10-18 00:06:00|      null|      null|\n",
      "|-33.60934| 21.96884|     309.3|0.52|  0.5|        N|         nominal| 1.0NRT|     286.2|1.6|       N|2020-10-18 00:06:00|      null|      null|\n",
      "|-33.31584|  18.8451|     303.5|0.53| 0.42|        N|         nominal| 1.0NRT|     286.8|1.7|       N|2020-10-18 00:06:00|      null|      null|\n",
      "|-34.01957| 25.57089|     295.8|0.42| 0.61|        N|         nominal| 1.0NRT|     277.8|0.7|       N|2020-10-18 00:06:00|      null|      null|\n",
      "+---------+---------+----------+----+-----+---------+----------------+-------+----------+---+--------+-------------------+----------+----------+\n",
      "only showing top 20 rows\n",
      "\n"
     ]
    }
   ],
   "source": [
    "combined_df = viirs_df2.unionByName(modis_df)\n",
    "combined_df.show()"
   ]
  },
  {
   "cell_type": "code",
   "execution_count": 18,
   "metadata": {},
   "outputs": [
    {
     "data": {
      "text/plain": [
       "111317"
      ]
     },
     "execution_count": 18,
     "metadata": {},
     "output_type": "execute_result"
    }
   ],
   "source": [
    "combined_df.count()"
   ]
  },
  {
   "cell_type": "code",
   "execution_count": 19,
   "metadata": {},
   "outputs": [
    {
     "data": {
      "text/plain": [
       "19173"
      ]
     },
     "execution_count": 19,
     "metadata": {},
     "output_type": "execute_result"
    }
   ],
   "source": [
    "count"
   ]
  },
  {
   "cell_type": "code",
   "execution_count": 20,
   "metadata": {},
   "outputs": [
    {
     "data": {
      "text/plain": [
       "3"
      ]
     },
     "execution_count": 20,
     "metadata": {},
     "output_type": "execute_result"
    }
   ],
   "source": [
    "combined_df.rdd.getNumPartitions()"
   ]
  },
  {
   "cell_type": "code",
   "execution_count": 21,
   "metadata": {},
   "outputs": [],
   "source": [
    "combined_df.write.format(\"parquet\") \\\n",
    "        .mode(\"overwrite\") \\\n",
    "        .save(\"data/fires_parquet\")\n",
    "\n",
    "output_df = combined_df.filter(\"confidence_level = 'high'\") \\\n",
    " .repartition(1)\n",
    "\n",
    "output_df.write.format(\"csv\") \\\n",
    "        .option(\"header\", True) \\\n",
    "        .mode(\"overwrite\") \\\n",
    "        .save(\"data/high_confidence_fires_csv\")"
   ]
  }
 ],
 "metadata": {
  "kernelspec": {
   "display_name": "Python 3",
   "language": "python",
   "name": "python3"
  },
  "language_info": {
   "codemirror_mode": {
    "name": "ipython",
    "version": 3
   },
   "file_extension": ".py",
   "mimetype": "text/x-python",
   "name": "python",
   "nbconvert_exporter": "python",
   "pygments_lexer": "ipython3",
   "version": "3.8.5"
  }
 },
 "nbformat": 4,
 "nbformat_minor": 4
}
