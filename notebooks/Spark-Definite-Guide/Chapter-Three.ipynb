{
 "cells": [
  {
   "cell_type": "markdown",
   "metadata": {
    "collapsed": "true"
   },
   "source": [
    "# Imports"
   ]
  },
  {
   "cell_type": "code",
   "execution_count": 18,
   "metadata": {},
   "outputs": [],
   "source": [
    "from pyspark.sql import SparkSession\n",
    "import pyspark.sql.functions as F\n",
    "from pathlib import Path\n",
    "\n",
    "from pyspark.ml.feature import OneHotEncoder, StringIndexer, VectorAssembler\n",
    "from pyspark.ml import Pipeline\n",
    "from pyspark.ml.clustering import KMeans\n",
    "from pyspark.ml.evaluation import ClusteringEvaluator"
   ]
  },
  {
   "cell_type": "code",
   "execution_count": 2,
   "metadata": {},
   "outputs": [
    {
     "name": "stdout",
     "output_type": "stream",
     "text": [
      "README.md                    \u001b[1m\u001b[36mmulticlass-classification\u001b[m\u001b[m\n",
      "\u001b[1m\u001b[36mactivity-data\u001b[m\u001b[m                \u001b[1m\u001b[36mregression\u001b[m\u001b[m\n",
      "\u001b[1m\u001b[36mbike-data\u001b[m\u001b[m                    \u001b[1m\u001b[36mretail-data\u001b[m\u001b[m\n",
      "\u001b[1m\u001b[36mbinary-classification\u001b[m\u001b[m        sample_libsvm_data.txt\n",
      "\u001b[1m\u001b[36mclustering\u001b[m\u001b[m                   sample_movielens_ratings.txt\n",
      "\u001b[1m\u001b[36mdeep-learning-images\u001b[m\u001b[m         \u001b[1m\u001b[36msimple-ml\u001b[m\u001b[m\n",
      "\u001b[1m\u001b[36mflight-data\u001b[m\u001b[m                  \u001b[1m\u001b[36msimple-ml-integers\u001b[m\u001b[m\n",
      "\u001b[1m\u001b[36mflight-data-hive\u001b[m\u001b[m             \u001b[1m\u001b[36msimple-ml-scaling\u001b[m\u001b[m\n"
     ]
    }
   ],
   "source": [
    "DATA_PATH = Path('data/')\n",
    "!ls {DATA_PATH}"
   ]
  },
  {
   "cell_type": "code",
   "execution_count": 3,
   "metadata": {},
   "outputs": [
    {
     "data": {
      "text/html": [
       "\n",
       "            <div>\n",
       "                <p><b>SparkSession - in-memory</b></p>\n",
       "                \n",
       "        <div>\n",
       "            <p><b>SparkContext</b></p>\n",
       "\n",
       "            <p><a href=\"http://imads-mbp.attlocal.net:4040\">Spark UI</a></p>\n",
       "\n",
       "            <dl>\n",
       "              <dt>Version</dt>\n",
       "                <dd><code>v3.0.0</code></dd>\n",
       "              <dt>Master</dt>\n",
       "                <dd><code>local[*]</code></dd>\n",
       "              <dt>AppName</dt>\n",
       "                <dd><code>Structured Streaming</code></dd>\n",
       "            </dl>\n",
       "        </div>\n",
       "        \n",
       "            </div>\n",
       "        "
      ],
      "text/plain": [
       "<pyspark.sql.session.SparkSession at 0x7f8fe07ef700>"
      ]
     },
     "execution_count": 3,
     "metadata": {},
     "output_type": "execute_result"
    }
   ],
   "source": [
    "spark = (SparkSession\n",
    "         .builder\n",
    "         .appName('Structured Streaming')\n",
    "         .getOrCreate())\n",
    "spark"
   ]
  },
  {
   "cell_type": "markdown",
   "metadata": {
    "collapsed": "true"
   },
   "source": [
    "# Structured Streaming"
   ]
  },
  {
   "cell_type": "code",
   "execution_count": 4,
   "metadata": {},
   "outputs": [],
   "source": [
    "static_df = (spark\n",
    "             .read\n",
    "             .format('csv')\n",
    "             .option('inferschema', 'true')\n",
    "             .option('header', 'true')\n",
    "             .load(str(DATA_PATH / 'retail-data/by-day/*.csv')))"
   ]
  },
  {
   "cell_type": "code",
   "execution_count": 5,
   "metadata": {},
   "outputs": [
    {
     "data": {
      "text/plain": [
       "StructType(List(StructField(InvoiceNo,StringType,true),StructField(StockCode,StringType,true),StructField(Description,StringType,true),StructField(Quantity,IntegerType,true),StructField(InvoiceDate,StringType,true),StructField(UnitPrice,DoubleType,true),StructField(CustomerID,DoubleType,true),StructField(Country,StringType,true)))"
      ]
     },
     "execution_count": 5,
     "metadata": {},
     "output_type": "execute_result"
    }
   ],
   "source": [
    "static_schema = static_df.schema\n",
    "static_schema"
   ]
  },
  {
   "cell_type": "code",
   "execution_count": 6,
   "metadata": {},
   "outputs": [],
   "source": [
    "static_df.createOrReplaceTempView('retail_data')"
   ]
  },
  {
   "cell_type": "code",
   "execution_count": 7,
   "metadata": {},
   "outputs": [
    {
     "name": "stdout",
     "output_type": "stream",
     "text": [
      "root\n",
      " |-- InvoiceNo: string (nullable = true)\n",
      " |-- StockCode: string (nullable = true)\n",
      " |-- Description: string (nullable = true)\n",
      " |-- Quantity: integer (nullable = true)\n",
      " |-- InvoiceDate: string (nullable = true)\n",
      " |-- UnitPrice: double (nullable = true)\n",
      " |-- CustomerID: double (nullable = true)\n",
      " |-- Country: string (nullable = true)\n",
      "\n"
     ]
    }
   ],
   "source": [
    "static_df.printSchema()"
   ]
  },
  {
   "cell_type": "code",
   "execution_count": 8,
   "metadata": {},
   "outputs": [
    {
     "name": "stdout",
     "output_type": "stream",
     "text": [
      "+----------+------------------+-------------------+\n",
      "|CustomerID|        total_cost|        InvoiceDate|\n",
      "+----------+------------------+-------------------+\n",
      "|   14075.0|             85.92|2011-12-05 08:38:00|\n",
      "|   14075.0|              25.0|2011-12-05 08:38:00|\n",
      "|   14075.0|39.599999999999994|2011-12-05 08:38:00|\n",
      "|   14075.0|              30.0|2011-12-05 08:38:00|\n",
      "|   14075.0|15.299999999999999|2011-12-05 08:38:00|\n",
      "|   14075.0|              40.8|2011-12-05 08:38:00|\n",
      "|   14075.0|              39.6|2011-12-05 08:38:00|\n",
      "|   14075.0|             40.56|2011-12-05 08:38:00|\n",
      "|   18180.0|              17.0|2011-12-05 08:39:00|\n",
      "|   18180.0|              17.0|2011-12-05 08:39:00|\n",
      "|   18180.0|              19.8|2011-12-05 08:39:00|\n",
      "|   18180.0|14.850000000000001|2011-12-05 08:39:00|\n",
      "|   18180.0|              15.6|2011-12-05 08:39:00|\n",
      "|   18180.0|              15.6|2011-12-05 08:39:00|\n",
      "|   18180.0|              15.0|2011-12-05 08:39:00|\n",
      "|   18180.0| 9.899999999999999|2011-12-05 08:39:00|\n",
      "|   18180.0|30.599999999999998|2011-12-05 08:39:00|\n",
      "|   18180.0|              30.0|2011-12-05 08:39:00|\n",
      "|   18180.0|              17.0|2011-12-05 08:39:00|\n",
      "|   18180.0|              17.0|2011-12-05 08:39:00|\n",
      "+----------+------------------+-------------------+\n",
      "only showing top 20 rows\n",
      "\n"
     ]
    }
   ],
   "source": [
    "static_df.selectExpr('CustomerID', '(Quantity * UnitPrice) as total_cost', 'InvoiceDate').show()"
   ]
  },
  {
   "cell_type": "code",
   "execution_count": 9,
   "metadata": {},
   "outputs": [
    {
     "name": "stdout",
     "output_type": "stream",
     "text": [
      "+----------+--------------------+-----------------+\n",
      "|CustomerID|              window|  sum(total_cost)|\n",
      "+----------+--------------------+-----------------+\n",
      "|   16057.0|[2011-12-04 18:00...|            -37.6|\n",
      "|   14126.0|[2011-11-28 18:00...|643.6300000000001|\n",
      "|   13500.0|[2011-11-15 18:00...|497.9700000000001|\n",
      "|   17160.0|[2011-11-07 18:00...|516.8499999999999|\n",
      "|   15608.0|[2011-11-10 18:00...|            122.4|\n",
      "+----------+--------------------+-----------------+\n",
      "only showing top 5 rows\n",
      "\n"
     ]
    }
   ],
   "source": [
    "(static_df\n",
    " .selectExpr('CustomerID', '(Quantity * UnitPrice) as total_cost', 'InvoiceDate')\n",
    " .groupBy('CustomerID', F.window(F.col('InvoiceDate'), '1 day'))\n",
    " .sum('total_cost')\n",
    " .show(5))"
   ]
  },
  {
   "cell_type": "code",
   "execution_count": 10,
   "metadata": {},
   "outputs": [
    {
     "data": {
      "text/plain": [
       "True"
      ]
     },
     "execution_count": 10,
     "metadata": {},
     "output_type": "execute_result"
    }
   ],
   "source": [
    "streaming_df = (spark\n",
    "                .readStream.format('csv')\n",
    "                .schema(static_schema)\n",
    "                .option('maxFilesPerTrigger', 1)\n",
    "                .option('header', 'true')\n",
    "                .load(str(DATA_PATH / 'retail-data/by-day/*.csv')))\n",
    "streaming_df.isStreaming"
   ]
  },
  {
   "cell_type": "code",
   "execution_count": 11,
   "metadata": {},
   "outputs": [],
   "source": [
    "purchase_by_customer_by_hour = (streaming_df\n",
    "                                .selectExpr('CustomerID', '(Quantity * UnitPrice) as total_cost', 'InvoiceDate')\n",
    "                                .groupBy('CustomerID', F.window(F.col('InvoiceDate'), '1 day'))\n",
    "                                .sum('total_cost'))"
   ]
  },
  {
   "cell_type": "code",
   "execution_count": 12,
   "metadata": {},
   "outputs": [
    {
     "data": {
      "text/plain": [
       "<pyspark.sql.streaming.StreamingQuery at 0x7f8fe24e53d0>"
      ]
     },
     "execution_count": 12,
     "metadata": {},
     "output_type": "execute_result"
    }
   ],
   "source": [
    "(purchase_by_customer_by_hour\n",
    " .writeStream\n",
    " .format('memory')\n",
    " .queryName('customer_purchases')\n",
    " .outputMode('complete')\n",
    " .start())"
   ]
  },
  {
   "cell_type": "code",
   "execution_count": 13,
   "metadata": {},
   "outputs": [
    {
     "name": "stdout",
     "output_type": "stream",
     "text": [
      "+----------+--------------------+------------------+\n",
      "|CustomerID|              window|   sum(total_cost)|\n",
      "+----------+--------------------+------------------+\n",
      "|   12415.0|[2011-03-02 18:00...|          16558.14|\n",
      "|   15769.0|[2011-03-16 19:00...|           10065.0|\n",
      "|      null|[2011-03-16 19:00...| 7876.000000000018|\n",
      "|   12435.0|[2011-03-16 19:00...|3978.9899999999993|\n",
      "|      null|[2011-03-02 18:00...| 3538.750000000001|\n",
      "+----------+--------------------+------------------+\n",
      "only showing top 5 rows\n",
      "\n"
     ]
    }
   ],
   "source": [
    "spark.sql(\"SELECT * FROM customer_purchases ORDER BY 3 DESC\").show(5)"
   ]
  },
  {
   "cell_type": "markdown",
   "metadata": {},
   "source": [
    "# Machine Learning"
   ]
  },
  {
   "cell_type": "code",
   "execution_count": 14,
   "metadata": {},
   "outputs": [
    {
     "name": "stdout",
     "output_type": "stream",
     "text": [
      "root\n",
      " |-- InvoiceNo: string (nullable = true)\n",
      " |-- StockCode: string (nullable = true)\n",
      " |-- Description: string (nullable = true)\n",
      " |-- Quantity: integer (nullable = true)\n",
      " |-- InvoiceDate: string (nullable = true)\n",
      " |-- UnitPrice: double (nullable = true)\n",
      " |-- CustomerID: double (nullable = true)\n",
      " |-- Country: string (nullable = true)\n",
      "\n"
     ]
    }
   ],
   "source": [
    "static_df.printSchema()"
   ]
  },
  {
   "cell_type": "code",
   "execution_count": 15,
   "metadata": {},
   "outputs": [
    {
     "name": "stdout",
     "output_type": "stream",
     "text": [
      "== Physical Plan ==\n",
      "Coalesce 5\n",
      "+- *(1) Project [InvoiceNo#16, StockCode#17, Description#18, coalesce(Quantity#19, 0) AS Quantity#397011, InvoiceDate#20, coalesce(nanvl(UnitPrice#21, null), 0.0) AS UnitPrice#397012, coalesce(nanvl(CustomerID#22, null), 0.0) AS CustomerID#397013, Country#23, date_format(cast(InvoiceDate#20 as timestamp), EEEE, Some(America/Chicago)) AS day_of_week#397022]\n",
      "   +- FileScan csv [InvoiceNo#16,StockCode#17,Description#18,Quantity#19,InvoiceDate#20,UnitPrice#21,CustomerID#22,Country#23] Batched: false, DataFilters: [], Format: CSV, Location: InMemoryFileIndex[file:/Users/imad/Documents/courses/data-engineering/big-data/notebooks/Spark-De..., PartitionFilters: [], PushedFilters: [], ReadSchema: struct<InvoiceNo:string,StockCode:string,Description:string,Quantity:int,InvoiceDate:string,UnitP...\n",
      "\n",
      "\n"
     ]
    }
   ],
   "source": [
    "prep_df = (static_df\n",
    "          .na.fill(0)\n",
    "          .withColumn('day_of_week', F.date_format(F.col('InvoiceDate'), 'EEEE'))\n",
    "          .coalesce(5))\n",
    "prep_df.explain()"
   ]
  },
  {
   "cell_type": "code",
   "execution_count": 16,
   "metadata": {},
   "outputs": [
    {
     "name": "stdout",
     "output_type": "stream",
     "text": [
      "+---------+---------+--------------------+--------+-------------------+---------+----------+--------------+-----------+\n",
      "|InvoiceNo|StockCode|         Description|Quantity|        InvoiceDate|UnitPrice|CustomerID|       Country|day_of_week|\n",
      "+---------+---------+--------------------+--------+-------------------+---------+----------+--------------+-----------+\n",
      "|   580538|    23084|  RABBIT NIGHT LIGHT|      48|2011-12-05 08:38:00|     1.79|   14075.0|United Kingdom|     Monday|\n",
      "|   580538|    23077| DOUGHNUT LIP GLOSS |      20|2011-12-05 08:38:00|     1.25|   14075.0|United Kingdom|     Monday|\n",
      "|   580538|    22906|12 MESSAGE CARDS ...|      24|2011-12-05 08:38:00|     1.65|   14075.0|United Kingdom|     Monday|\n",
      "|   580538|    21914|BLUE HARMONICA IN...|      24|2011-12-05 08:38:00|     1.25|   14075.0|United Kingdom|     Monday|\n",
      "|   580538|    22467|   GUMBALL COAT RACK|       6|2011-12-05 08:38:00|     2.55|   14075.0|United Kingdom|     Monday|\n",
      "|   580538|    21544|SKULLS  WATER TRA...|      48|2011-12-05 08:38:00|     0.85|   14075.0|United Kingdom|     Monday|\n",
      "|   580538|    23126|FELTCRAFT GIRL AM...|       8|2011-12-05 08:38:00|     4.95|   14075.0|United Kingdom|     Monday|\n",
      "|   580538|    21833|CAMOUFLAGE LED TORCH|      24|2011-12-05 08:38:00|     1.69|   14075.0|United Kingdom|     Monday|\n",
      "|   580539|    21479|WHITE SKULL HOT W...|       4|2011-12-05 08:39:00|     4.25|   18180.0|United Kingdom|     Monday|\n",
      "|   580539|   84030E|ENGLISH ROSE HOT ...|       4|2011-12-05 08:39:00|     4.25|   18180.0|United Kingdom|     Monday|\n",
      "|   580539|    23355|HOT WATER BOTTLE ...|       4|2011-12-05 08:39:00|     4.95|   18180.0|United Kingdom|     Monday|\n",
      "|   580539|    22111|SCOTTIE DOG HOT W...|       3|2011-12-05 08:39:00|     4.95|   18180.0|United Kingdom|     Monday|\n",
      "|   580539|    21115|ROSE CARAVAN DOOR...|       8|2011-12-05 08:39:00|     1.95|   18180.0|United Kingdom|     Monday|\n",
      "|   580539|    21411|GINGHAM HEART  DO...|       8|2011-12-05 08:39:00|     1.95|   18180.0|United Kingdom|     Monday|\n",
      "|   580539|    23235|STORAGE TIN VINTA...|      12|2011-12-05 08:39:00|     1.25|   18180.0|United Kingdom|     Monday|\n",
      "|   580539|    23239|SET OF 4 KNICK KN...|       6|2011-12-05 08:39:00|     1.65|   18180.0|United Kingdom|     Monday|\n",
      "|   580539|    22197|      POPCORN HOLDER|      36|2011-12-05 08:39:00|     0.85|   18180.0|United Kingdom|     Monday|\n",
      "|   580539|    22693|GROW A FLYTRAP OR...|      24|2011-12-05 08:39:00|     1.25|   18180.0|United Kingdom|     Monday|\n",
      "|   580539|    22372|AIRLINE BAG VINTA...|       4|2011-12-05 08:39:00|     4.25|   18180.0|United Kingdom|     Monday|\n",
      "|   580539|    22375|AIRLINE BAG VINTA...|       4|2011-12-05 08:39:00|     4.25|   18180.0|United Kingdom|     Monday|\n",
      "+---------+---------+--------------------+--------+-------------------+---------+----------+--------------+-----------+\n",
      "only showing top 20 rows\n",
      "\n"
     ]
    }
   ],
   "source": [
    "prep_df.show()"
   ]
  },
  {
   "cell_type": "code",
   "execution_count": 17,
   "metadata": {},
   "outputs": [
    {
     "data": {
      "text/plain": [
       "(245903, 296006)"
      ]
     },
     "execution_count": 17,
     "metadata": {},
     "output_type": "execute_result"
    }
   ],
   "source": [
    "train_df = prep_df.where(\"InvoiceDate < '2011-07-01'\")\n",
    "test_df = prep_df.where(\"InvoiceDate >= '2011-07-01'\")\n",
    "train_df.count(), test_df.count()"
   ]
  },
  {
   "cell_type": "code",
   "execution_count": 19,
   "metadata": {},
   "outputs": [],
   "source": [
    "indexer = (StringIndexer()\n",
    "           .setInputCol('day_of_week')\n",
    "           .setOutputCol('day_of_week_index'))\n",
    "\n",
    "encoder = (OneHotEncoder()\n",
    "           .setInputCol('day_of_week_index')\n",
    "           .setOutputCol('day_of_week_encoded'))\n",
    "\n",
    "vector_assembler = (VectorAssembler()\n",
    "                    .setInputCols(['UnitPrice', 'Quantity', 'day_of_week_encoded'])\n",
    "                    .setOutputCol('features'))\n",
    "           \n",
    "tfms_pipeline = (Pipeline()\n",
    "                 .setStages([indexer, encoder, vector_assembler]))"
   ]
  },
  {
   "cell_type": "code",
   "execution_count": 20,
   "metadata": {},
   "outputs": [],
   "source": [
    "fitted_pipeline = tfms_pipeline.fit(train_df)"
   ]
  },
  {
   "cell_type": "code",
   "execution_count": 21,
   "metadata": {},
   "outputs": [],
   "source": [
    "transformed_train_df = fitted_pipeline.transform(train_df)\n",
    "transformed_test_df = fitted_pipeline.transform(test_df)"
   ]
  },
  {
   "cell_type": "code",
   "execution_count": 22,
   "metadata": {},
   "outputs": [
    {
     "data": {
      "text/plain": [
       "DataFrame[InvoiceNo: string, StockCode: string, Description: string, Quantity: int, InvoiceDate: string, UnitPrice: double, CustomerID: double, Country: string, day_of_week: string, day_of_week_index: double, day_of_week_encoded: vector, features: vector]"
      ]
     },
     "execution_count": 22,
     "metadata": {},
     "output_type": "execute_result"
    }
   ],
   "source": [
    "transformed_train_df.cache()"
   ]
  },
  {
   "cell_type": "code",
   "execution_count": 23,
   "metadata": {},
   "outputs": [
    {
     "name": "stdout",
     "output_type": "stream",
     "text": [
      "+---------+---------+--------------------+--------+-------------------+---------+----------+--------------+-----------+-----------------+-------------------+--------------------+\n",
      "|InvoiceNo|StockCode|         Description|Quantity|        InvoiceDate|UnitPrice|CustomerID|       Country|day_of_week|day_of_week_index|day_of_week_encoded|            features|\n",
      "+---------+---------+--------------------+--------+-------------------+---------+----------+--------------+-----------+-----------------+-------------------+--------------------+\n",
      "|   537226|    22811|SET OF 6 T-LIGHTS...|       6|2010-12-06 08:34:00|     2.95|   15987.0|United Kingdom|     Monday|              2.0|      (5,[2],[1.0])|(7,[0,1,4],[2.95,...|\n",
      "|   537226|    21713|CITRONELLA CANDLE...|       8|2010-12-06 08:34:00|      2.1|   15987.0|United Kingdom|     Monday|              2.0|      (5,[2],[1.0])|(7,[0,1,4],[2.1,8...|\n",
      "|   537226|    22927|GREEN GIANT GARDE...|       2|2010-12-06 08:34:00|     5.95|   15987.0|United Kingdom|     Monday|              2.0|      (5,[2],[1.0])|(7,[0,1,4],[5.95,...|\n",
      "|   537226|    20802|SMALL GLASS SUNDA...|       6|2010-12-06 08:34:00|     1.65|   15987.0|United Kingdom|     Monday|              2.0|      (5,[2],[1.0])|(7,[0,1,4],[1.65,...|\n",
      "|   537226|    22052|VINTAGE CARAVAN G...|      25|2010-12-06 08:34:00|     0.42|   15987.0|United Kingdom|     Monday|              2.0|      (5,[2],[1.0])|(7,[0,1,4],[0.42,...|\n",
      "|   537226|    22705|   WRAP GREEN PEARS |      25|2010-12-06 08:34:00|     0.42|   15987.0|United Kingdom|     Monday|              2.0|      (5,[2],[1.0])|(7,[0,1,4],[0.42,...|\n",
      "|   537226|    20781|GOLD EAR MUFF HEA...|       2|2010-12-06 08:34:00|     5.49|   15987.0|United Kingdom|     Monday|              2.0|      (5,[2],[1.0])|(7,[0,1,4],[5.49,...|\n",
      "|   537226|    22310|IVORY KNITTED MUG...|       6|2010-12-06 08:34:00|     1.65|   15987.0|United Kingdom|     Monday|              2.0|      (5,[2],[1.0])|(7,[0,1,4],[1.65,...|\n",
      "|   537226|    22389|PAPERWEIGHT SAVE ...|       6|2010-12-06 08:34:00|     2.55|   15987.0|United Kingdom|     Monday|              2.0|      (5,[2],[1.0])|(7,[0,1,4],[2.55,...|\n",
      "|   537227|    22941|CHRISTMAS LIGHTS ...|       2|2010-12-06 08:42:00|      8.5|   17677.0|United Kingdom|     Monday|              2.0|      (5,[2],[1.0])|(7,[0,1,4],[8.5,2...|\n",
      "|   537227|    22696| WICKER WREATH LARGE|       6|2010-12-06 08:42:00|     1.95|   17677.0|United Kingdom|     Monday|              2.0|      (5,[2],[1.0])|(7,[0,1,4],[1.95,...|\n",
      "|   537227|    22193|RED DINER WALL CLOCK|       2|2010-12-06 08:42:00|      8.5|   17677.0|United Kingdom|     Monday|              2.0|      (5,[2],[1.0])|(7,[0,1,4],[8.5,2...|\n",
      "|   537227|    21212|PACK OF 72 RETROS...|     120|2010-12-06 08:42:00|     0.42|   17677.0|United Kingdom|     Monday|              2.0|      (5,[2],[1.0])|(7,[0,1,4],[0.42,...|\n",
      "|   537227|    21977|PACK OF 60 PINK P...|      48|2010-12-06 08:42:00|     0.55|   17677.0|United Kingdom|     Monday|              2.0|      (5,[2],[1.0])|(7,[0,1,4],[0.55,...|\n",
      "|   537227|    84991|60 TEATIME FAIRY ...|      48|2010-12-06 08:42:00|     0.55|   17677.0|United Kingdom|     Monday|              2.0|      (5,[2],[1.0])|(7,[0,1,4],[0.55,...|\n",
      "|   537227|    21213|PACK OF 72 SKULL ...|      48|2010-12-06 08:42:00|     0.55|   17677.0|United Kingdom|     Monday|              2.0|      (5,[2],[1.0])|(7,[0,1,4],[0.55,...|\n",
      "|   537227|    21080|SET/20 RED RETROS...|      12|2010-12-06 08:42:00|     0.85|   17677.0|United Kingdom|     Monday|              2.0|      (5,[2],[1.0])|(7,[0,1,4],[0.85,...|\n",
      "|   537227|    22632|HAND WARMER RED R...|      48|2010-12-06 08:42:00|      2.1|   17677.0|United Kingdom|     Monday|              2.0|      (5,[2],[1.0])|(7,[0,1,4],[2.1,4...|\n",
      "|   537227|    22315|200 RED + WHITE B...|      12|2010-12-06 08:42:00|     1.25|   17677.0|United Kingdom|     Monday|              2.0|      (5,[2],[1.0])|(7,[0,1,4],[1.25,...|\n",
      "|   537227|    21232|STRAWBERRY CERAMI...|      12|2010-12-06 08:42:00|     1.25|   17677.0|United Kingdom|     Monday|              2.0|      (5,[2],[1.0])|(7,[0,1,4],[1.25,...|\n",
      "+---------+---------+--------------------+--------+-------------------+---------+----------+--------------+-----------+-----------------+-------------------+--------------------+\n",
      "only showing top 20 rows\n",
      "\n"
     ]
    }
   ],
   "source": [
    "transformed_train_df.show()"
   ]
  },
  {
   "cell_type": "code",
   "execution_count": 24,
   "metadata": {},
   "outputs": [],
   "source": [
    "kmeans = KMeans().setK(20).setSeed(1)"
   ]
  },
  {
   "cell_type": "code",
   "execution_count": 25,
   "metadata": {},
   "outputs": [],
   "source": [
    "kmeans_model = kmeans.fit(transformed_train_df)"
   ]
  },
  {
   "cell_type": "code",
   "execution_count": 26,
   "metadata": {},
   "outputs": [
    {
     "data": {
      "text/plain": [
       "[Row(InvoiceNo='537226', StockCode='22811', Description='SET OF 6 T-LIGHTS CACTI ', Quantity=6, InvoiceDate='2010-12-06 08:34:00', UnitPrice=2.95, CustomerID=15987.0, Country='United Kingdom', day_of_week='Monday', day_of_week_index=2.0, day_of_week_encoded=SparseVector(5, {2: 1.0}), features=SparseVector(7, {0: 2.95, 1: 6.0, 4: 1.0}))]"
      ]
     },
     "execution_count": 26,
     "metadata": {},
     "output_type": "execute_result"
    }
   ],
   "source": [
    "transformed_train_df.take(1)"
   ]
  },
  {
   "cell_type": "code",
   "execution_count": 27,
   "metadata": {},
   "outputs": [
    {
     "data": {
      "text/plain": [
       "0.6842576726028763"
      ]
     },
     "execution_count": 27,
     "metadata": {},
     "output_type": "execute_result"
    }
   ],
   "source": [
    "ClusteringEvaluator().evaluate(kmeans_model.transform(transformed_train_df))"
   ]
  },
  {
   "cell_type": "code",
   "execution_count": 28,
   "metadata": {},
   "outputs": [
    {
     "data": {
      "text/plain": [
       "0.5427938390491535"
      ]
     },
     "execution_count": 28,
     "metadata": {},
     "output_type": "execute_result"
    }
   ],
   "source": [
    "ClusteringEvaluator().evaluate(kmeans_model.transform(transformed_test_df))"
   ]
  },
  {
   "cell_type": "code",
   "execution_count": 29,
   "metadata": {},
   "outputs": [
    {
     "data": {
      "text/plain": [
       "[array([4.09293606, 2.73959977, 0.18896861, 0.19629835, 0.18589279,\n",
       "        0.16698473, 0.14731972]),\n",
       " array([1.0400e+00, 7.4215e+04, 0.0000e+00, 1.0000e+00, 0.0000e+00,\n",
       "        0.0000e+00, 0.0000e+00]),\n",
       " array([ 1.0400e+00, -7.4215e+04,  0.0000e+00,  1.0000e+00,  0.0000e+00,\n",
       "         0.0000e+00,  0.0000e+00]),\n",
       " array([ 3.897e+04, -1.000e+00,  0.000e+00,  0.000e+00,  0.000e+00,\n",
       "         0.000e+00,  1.000e+00]),\n",
       " array([ 1.6670865e+04, -1.0000000e+00,  0.0000000e+00,  0.0000000e+00,\n",
       "         0.0000000e+00,  1.0000000e+00,  0.0000000e+00]),\n",
       " array([ 7.5000e-03, -9.4045e+03,  2.5000e-01,  7.5000e-01,  0.0000e+00,\n",
       "         0.0000e+00,  0.0000e+00]),\n",
       " array([ 7.385808e+03, -6.000000e-01,  0.000000e+00,  8.000000e-01,\n",
       "         2.000000e-01,  0.000000e+00,  0.000000e+00]),\n",
       " array([ 1.94092118e+03, -1.76470588e-01,  5.88235294e-02,  1.76470588e-01,\n",
       "         4.11764706e-01,  0.00000000e+00,  3.52941176e-01]),\n",
       " array([8.407500e-01, 1.213475e+03, 2.125000e-01, 2.500000e-01,\n",
       "        1.125000e-01, 2.000000e-01, 1.625000e-01]),\n",
       " array([ 2.91481481e-01, -1.34285185e+03,  1.85185185e-01,  2.96296296e-01,\n",
       "         1.85185185e-01,  2.59259259e-01,  7.40740741e-02]),\n",
       " array([  1.41599732, 114.6946616 ,   0.20817512,   0.24078624,\n",
       "          0.12754076,   0.21710967,   0.15434443]),\n",
       " array([ 1.3524695e+04, -5.0000000e-01,  0.0000000e+00,  1.0000000e+00,\n",
       "         0.0000000e+00,  0.0000000e+00,  0.0000000e+00]),\n",
       " array([ 5.43415e+03, -1.00000e+00,  0.00000e+00,  1.25000e-01,\n",
       "         3.75000e-01,  0.00000e+00,  5.00000e-01]),\n",
       " array([ 1.51681407, 19.67695062,  0.22239997,  0.18547297,  0.15614466,\n",
       "         0.19282409,  0.15604944]),\n",
       " array([6.06428571e-01, 3.20957143e+03, 2.85714286e-01, 1.42857143e-01,\n",
       "        1.42857143e-01, 1.42857143e-01, 2.85714286e-01]),\n",
       " array([1.90351052e+02, 8.47036329e-01, 1.64435946e-01, 3.02103250e-01,\n",
       "        2.31357553e-01, 1.51051625e-01, 1.30019120e-01]),\n",
       " array([1.21189516e+00, 4.17725806e+02, 2.98387097e-01, 2.01612903e-01,\n",
       "        1.45161290e-01, 1.81451613e-01, 1.41129032e-01]),\n",
       " array([7.75176053e+02, 1.03947368e+00, 1.97368421e-01, 1.97368421e-01,\n",
       "        3.02631579e-01, 1.05263158e-01, 1.97368421e-01]),\n",
       " array([ 3.50000000e-01, -3.15500000e+03,  0.00000000e+00,  1.66666667e-01,\n",
       "         3.33333333e-01,  5.00000000e-01,  0.00000000e+00]),\n",
       " array([ 4.08333333e-01, -4.22783333e+02,  2.00000000e-01,  2.00000000e-01,\n",
       "         2.16666667e-01,  1.50000000e-01,  2.33333333e-01])]"
      ]
     },
     "execution_count": 29,
     "metadata": {},
     "output_type": "execute_result"
    }
   ],
   "source": [
    "kmeans_model.clusterCenters()"
   ]
  },
  {
   "cell_type": "code",
   "execution_count": 30,
   "metadata": {},
   "outputs": [
    {
     "name": "stdout",
     "output_type": "stream",
     "text": [
      "+-----------+-----+\n",
      "|day_of_week|count|\n",
      "+-----------+-----+\n",
      "|  Wednesday|42638|\n",
      "|    Tuesday|47974|\n",
      "|     Friday|36718|\n",
      "|   Thursday|48348|\n",
      "|     Monday|43900|\n",
      "|     Sunday|26325|\n",
      "+-----------+-----+\n",
      "\n"
     ]
    }
   ],
   "source": [
    "train_df.groupBy('day_of_week').count().show()"
   ]
  },
  {
   "cell_type": "code",
   "execution_count": 31,
   "metadata": {},
   "outputs": [
    {
     "name": "stdout",
     "output_type": "stream",
     "text": [
      "+---------+---------+--------------------+--------+-------------------+---------+----------+--------------+-----------+-----------------+-------------------+--------------------+----------+\n",
      "|InvoiceNo|StockCode|         Description|Quantity|        InvoiceDate|UnitPrice|CustomerID|       Country|day_of_week|day_of_week_index|day_of_week_encoded|            features|prediction|\n",
      "+---------+---------+--------------------+--------+-------------------+---------+----------+--------------+-----------+-----------------+-------------------+--------------------+----------+\n",
      "|   537226|    22811|SET OF 6 T-LIGHTS...|       6|2010-12-06 08:34:00|     2.95|   15987.0|United Kingdom|     Monday|              2.0|      (5,[2],[1.0])|(7,[0,1,4],[2.95,...|         0|\n",
      "|   537226|    21713|CITRONELLA CANDLE...|       8|2010-12-06 08:34:00|      2.1|   15987.0|United Kingdom|     Monday|              2.0|      (5,[2],[1.0])|(7,[0,1,4],[2.1,8...|         0|\n",
      "|   537226|    22927|GREEN GIANT GARDE...|       2|2010-12-06 08:34:00|     5.95|   15987.0|United Kingdom|     Monday|              2.0|      (5,[2],[1.0])|(7,[0,1,4],[5.95,...|         0|\n",
      "+---------+---------+--------------------+--------+-------------------+---------+----------+--------------+-----------+-----------------+-------------------+--------------------+----------+\n",
      "only showing top 3 rows\n",
      "\n"
     ]
    }
   ],
   "source": [
    "kmeans_model.transform(transformed_train_df).show(3)"
   ]
  }
 ],
 "metadata": {
  "kernelspec": {
   "display_name": "Python 3",
   "language": "python",
   "name": "python3"
  },
  "language_info": {
   "codemirror_mode": {
    "name": "ipython",
    "version": 3
   },
   "file_extension": ".py",
   "mimetype": "text/x-python",
   "name": "python",
   "nbconvert_exporter": "python",
   "pygments_lexer": "ipython3",
   "version": "3.8.5"
  }
 },
 "nbformat": 4,
 "nbformat_minor": 4
}
